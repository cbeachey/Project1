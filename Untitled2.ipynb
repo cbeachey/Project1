{
 "cells": [
  {
   "cell_type": "code",
   "execution_count": 2,
   "metadata": {},
   "outputs": [],
   "source": [
    "import matplotlib.pyplot as plt\n",
    "import pandas as pd\n",
    "import numpy as np\n",
    "import requests\n",
    "import time\n",
    "from scipy.stats import linregress\n",
    "from pprint import pprint\n"
   ]
  },
  {
   "cell_type": "code",
   "execution_count": 6,
   "metadata": {},
   "outputs": [],
   "source": [
    "base_url = \"https://apps.bea.gov/api/data/?&UserID= '9FBEDBC0-AF00-4A40-A93C-E4F9AF786CDF'&method=GETDATASETLIST&\""
   ]
  },
  {
   "cell_type": "code",
   "execution_count": 7,
   "metadata": {},
   "outputs": [],
   "source": [
    "response=requests.get(base_url).json()"
   ]
  },
  {
   "cell_type": "code",
   "execution_count": 8,
   "metadata": {},
   "outputs": [
    {
     "name": "stdout",
     "output_type": "stream",
     "text": [
      "{'BEAAPI': {'Request': {'RequestParam': [{'ParameterName': 'USERID',\n",
      "                                          'ParameterValue': ' '\n",
      "                                                            '9FBEDBC0-AF00-4A40-A93C-E4F9AF786CDF...[MODIFIED '\n",
      "                                                            'TO PREVENT '\n",
      "                                                            'CROSS-SITE '\n",
      "                                                            'SCRIPTING]'},\n",
      "                                         {'ParameterName': 'METHOD',\n",
      "                                          'ParameterValue': 'GETDATASETLIST'}]},\n",
      "            'Results': {'Error': {'APIErrorCode': '1',\n",
      "                                  'APIErrorDescription': 'This API request is '\n",
      "                                                         'a possible '\n",
      "                                                         'cross-site scripting '\n",
      "                                                         'attempt. Please '\n",
      "                                                         'check your API '\n",
      "                                                         'request.'}}}}\n"
     ]
    }
   ],
   "source": [
    "pprint(response)"
   ]
  },
  {
   "cell_type": "code",
   "execution_count": null,
   "metadata": {},
   "outputs": [],
   "source": []
  }
 ],
 "metadata": {
  "kernelspec": {
   "display_name": "Python 3",
   "language": "python",
   "name": "python3"
  },
  "language_info": {
   "codemirror_mode": {
    "name": "ipython",
    "version": 3
   },
   "file_extension": ".py",
   "mimetype": "text/x-python",
   "name": "python",
   "nbconvert_exporter": "python",
   "pygments_lexer": "ipython3",
   "version": "3.8.3"
  }
 },
 "nbformat": 4,
 "nbformat_minor": 4
}
