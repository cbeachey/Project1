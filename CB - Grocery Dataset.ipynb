{
 "cells": [
  {
   "cell_type": "code",
   "execution_count": 73,
   "metadata": {},
   "outputs": [],
   "source": [
    "import pandas as pd\n",
    "import matplotlib.pyplot as plt\n",
    "import matplotlib.colors as mcolors\n",
    "import numpy as np\n",
    "\n",
    "filepath = ('Resources/Grocery Products Purchase.csv')\n"
   ]
  },
  {
   "cell_type": "code",
   "execution_count": 74,
   "metadata": {},
   "outputs": [
    {
     "data": {
      "text/html": [
       "<div>\n",
       "<style scoped>\n",
       "    .dataframe tbody tr th:only-of-type {\n",
       "        vertical-align: middle;\n",
       "    }\n",
       "\n",
       "    .dataframe tbody tr th {\n",
       "        vertical-align: top;\n",
       "    }\n",
       "\n",
       "    .dataframe thead th {\n",
       "        text-align: right;\n",
       "    }\n",
       "</style>\n",
       "<table border=\"1\" class=\"dataframe\">\n",
       "  <thead>\n",
       "    <tr style=\"text-align: right;\">\n",
       "      <th></th>\n",
       "      <th>Product</th>\n",
       "    </tr>\n",
       "  </thead>\n",
       "  <tbody>\n",
       "    <tr>\n",
       "      <th>0</th>\n",
       "      <td>citrus fruit</td>\n",
       "    </tr>\n",
       "    <tr>\n",
       "      <th>1</th>\n",
       "      <td>tropical fruit</td>\n",
       "    </tr>\n",
       "    <tr>\n",
       "      <th>2</th>\n",
       "      <td>whole milk</td>\n",
       "    </tr>\n",
       "    <tr>\n",
       "      <th>3</th>\n",
       "      <td>pip fruit</td>\n",
       "    </tr>\n",
       "    <tr>\n",
       "      <th>4</th>\n",
       "      <td>other vegetables</td>\n",
       "    </tr>\n",
       "  </tbody>\n",
       "</table>\n",
       "</div>"
      ],
      "text/plain": [
       "            Product\n",
       "0      citrus fruit\n",
       "1    tropical fruit\n",
       "2        whole milk\n",
       "3         pip fruit\n",
       "4  other vegetables"
      ]
     },
     "execution_count": 74,
     "metadata": {},
     "output_type": "execute_result"
    }
   ],
   "source": [
    "df = pd.read_csv(filepath)\n",
    "df.head()"
   ]
  },
  {
   "cell_type": "code",
   "execution_count": 93,
   "metadata": {},
   "outputs": [
    {
     "data": {
      "text/html": [
       "<div>\n",
       "<style scoped>\n",
       "    .dataframe tbody tr th:only-of-type {\n",
       "        vertical-align: middle;\n",
       "    }\n",
       "\n",
       "    .dataframe tbody tr th {\n",
       "        vertical-align: top;\n",
       "    }\n",
       "\n",
       "    .dataframe thead th {\n",
       "        text-align: right;\n",
       "    }\n",
       "</style>\n",
       "<table border=\"1\" class=\"dataframe\">\n",
       "  <thead>\n",
       "    <tr style=\"text-align: right;\">\n",
       "      <th></th>\n",
       "      <th>Product</th>\n",
       "      <th>Count</th>\n",
       "    </tr>\n",
       "  </thead>\n",
       "  <tbody>\n",
       "    <tr>\n",
       "      <th>0</th>\n",
       "      <td>whole milk</td>\n",
       "      <td>2513</td>\n",
       "    </tr>\n",
       "    <tr>\n",
       "      <th>1</th>\n",
       "      <td>other vegetables</td>\n",
       "      <td>1903</td>\n",
       "    </tr>\n",
       "    <tr>\n",
       "      <th>2</th>\n",
       "      <td>rolls/buns</td>\n",
       "      <td>1809</td>\n",
       "    </tr>\n",
       "    <tr>\n",
       "      <th>3</th>\n",
       "      <td>soda</td>\n",
       "      <td>1715</td>\n",
       "    </tr>\n",
       "    <tr>\n",
       "      <th>4</th>\n",
       "      <td>yogurt</td>\n",
       "      <td>1372</td>\n",
       "    </tr>\n",
       "  </tbody>\n",
       "</table>\n",
       "</div>"
      ],
      "text/plain": [
       "            Product  Count\n",
       "0        whole milk   2513\n",
       "1  other vegetables   1903\n",
       "2        rolls/buns   1809\n",
       "3              soda   1715\n",
       "4            yogurt   1372"
      ]
     },
     "execution_count": 93,
     "metadata": {},
     "output_type": "execute_result"
    }
   ],
   "source": [
    "items = df.groupby('Product').agg({'Product':pd.Series.count}).\\\n",
    "                                        rename(columns={'Product': 'Count'}).\\\n",
    "                                      sort_values('Count', ascending=False).\\\n",
    "                                        reset_index()\n",
    "\n",
    "\n",
    "\n",
    "top_five = items.head(5)\n",
    "top_five\n",
    " "
   ]
  },
  {
   "cell_type": "code",
   "execution_count": 94,
   "metadata": {},
   "outputs": [
    {
     "data": {
      "image/png": "[encoded data removed]",
      "text/plain": [
       "<Figure size 432x288 with 1 Axes>"
      ]
     },
     "metadata": {
      "needs_background": "light"
     },
     "output_type": "display_data"
    }
   ],
   "source": [
    "N = 10\n",
    "x = np.arange(N).astype(float)\n",
    "\n",
    "\n",
    "plt.title('Top 5 Grocery Items')\n",
    "plt.xlabel('Grocery Item')\n",
    "plt.ylabel('Count of Items')\n",
    "plt.xlim(-0.75, len(top_five['Product']) - 0.25)\n",
    "plt.xticks(rotation=45)\n",
    "\n",
    "\n",
    "clist = [(0, \"red\"), (0.125, \"red\"), (0.25, \"orange\"), (0.5, \"green\"), \n",
    "      (0.7, \"green\"), (0.75, \"blue\"), (1, \"blue\")]\n",
    "rvb = mcolors.LinearSegmentedColormap.from_list(\"\", clist)\n",
    "\n",
    "plt.bar(top_five['Product'],top_five['Count'],alpha=0.5, align='center', color=rvb(x/N))\n",
    "plt.legend\n",
    "plt.show()"
   ]
  },
  {
   "cell_type": "code",
   "execution_count": 101,
   "metadata": {},
   "outputs": [
    {
     "ename": "SyntaxError",
     "evalue": "invalid syntax (<ipython-input-101-fe118c580e9f>, line 3)",
     "output_type": "error",
     "traceback": [
      "\u001b[1;36m  File \u001b[1;32m\"<ipython-input-101-fe118c580e9f>\"\u001b[1;36m, line \u001b[1;32m3\u001b[0m\n\u001b[1;33m    group_dict = pd.DataFrame([{'Dairy' : 'whole milk', 'yogurt', 'whipped/sour cream'},\u001b[0m\n\u001b[1;37m                                                                ^\u001b[0m\n\u001b[1;31mSyntaxError\u001b[0m\u001b[1;31m:\u001b[0m invalid syntax\n"
     ]
    }
   ],
   "source": [
    "items.head(20)\n",
    "\n",
    "group_dict = pd.DataFrame([{'Dairy' : 'whole milk', 'yogurt', 'whipped/sour cream'},\n",
    "              {'Fruits/Vegetables' : 'other vegetables', 'root vegetables', 'tropical fruit', 'citrus fruit', \n",
    "                                    'pip fruit'},\n",
    "              {'Meat & Meat Alternatives' : 'sausage', 'domestic eggs'},\n",
    "              {'Bread/Grains' : ['rolls/buns', 'pastry', 'brown bread'},\n",
    "              {'Beverage (Alcoholic / Non-Alcoholic)' : 'soda', 'bottled beer', 'canned beer', 'fruit/vegetable juice'},\n",
    "              {'Household Goods' : ['shopping bags', 'newspapers'}])\n",
    "\n",
    "group_dict"
   ]
  },
  {
   "cell_type": "code",
   "execution_count": null,
   "metadata": {},
   "outputs": [],
   "source": []
  }
 ],
 "metadata": {
  "kernelspec": {
   "display_name": "Python 3",
   "language": "python",
   "name": "python3"
  },
  "language_info": {
   "codemirror_mode": {
    "name": "ipython",
    "version": 3
   },
   "file_extension": ".py",
   "mimetype": "text/x-python",
   "name": "python",
   "nbconvert_exporter": "python",
   "pygments_lexer": "ipython3",
   "version": "3.8.3"
  }
 },
 "nbformat": 4,
 "nbformat_minor": 4
}
