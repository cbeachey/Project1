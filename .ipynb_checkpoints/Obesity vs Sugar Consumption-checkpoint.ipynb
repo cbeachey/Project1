{
 "cells": [
  {
   "cell_type": "code",
   "execution_count": 17,
   "metadata": {},
   "outputs": [],
   "source": [
    "import matplotlib.pyplot as plt\n",
    "import pandas as pd\n",
    "import numpy as np\n",
    "from scipy.stats import linregress"
   ]
  },
  {
   "cell_type": "code",
   "execution_count": 22,
   "metadata": {},
   "outputs": [
    {
     "data": {
      "text/html": [
       "<div>\n",
       "<style scoped>\n",
       "    .dataframe tbody tr th:only-of-type {\n",
       "        vertical-align: middle;\n",
       "    }\n",
       "\n",
       "    .dataframe tbody tr th {\n",
       "        vertical-align: top;\n",
       "    }\n",
       "\n",
       "    .dataframe thead th {\n",
       "        text-align: right;\n",
       "    }\n",
       "</style>\n",
       "<table border=\"1\" class=\"dataframe\">\n",
       "  <thead>\n",
       "    <tr style=\"text-align: right;\">\n",
       "      <th></th>\n",
       "      <th>Country</th>\n",
       "      <th>Sugar Consumption (g per day)</th>\n",
       "      <th>Obesity(% of Population)</th>\n",
       "    </tr>\n",
       "  </thead>\n",
       "  <tbody>\n",
       "    <tr>\n",
       "      <th>0</th>\n",
       "      <td>Afghanistan</td>\n",
       "      <td>24.5</td>\n",
       "      <td>4.7</td>\n",
       "    </tr>\n",
       "    <tr>\n",
       "      <th>1</th>\n",
       "      <td>Albania</td>\n",
       "      <td>131.0</td>\n",
       "      <td>19.9</td>\n",
       "    </tr>\n",
       "    <tr>\n",
       "      <th>2</th>\n",
       "      <td>Algeria</td>\n",
       "      <td>78.2</td>\n",
       "      <td>25.3</td>\n",
       "    </tr>\n",
       "    <tr>\n",
       "      <th>3</th>\n",
       "      <td>Angola</td>\n",
       "      <td>44.7</td>\n",
       "      <td>7.1</td>\n",
       "    </tr>\n",
       "    <tr>\n",
       "      <th>4</th>\n",
       "      <td>Antigua and Barbuda</td>\n",
       "      <td>90.1</td>\n",
       "      <td>17.5</td>\n",
       "    </tr>\n",
       "    <tr>\n",
       "      <th>...</th>\n",
       "      <td>...</td>\n",
       "      <td>...</td>\n",
       "      <td>...</td>\n",
       "    </tr>\n",
       "    <tr>\n",
       "      <th>140</th>\n",
       "      <td>Uzbekistan</td>\n",
       "      <td>27.6</td>\n",
       "      <td>14.9</td>\n",
       "    </tr>\n",
       "    <tr>\n",
       "      <th>141</th>\n",
       "      <td>Vanuatu</td>\n",
       "      <td>51.4</td>\n",
       "      <td>23.2</td>\n",
       "    </tr>\n",
       "    <tr>\n",
       "      <th>142</th>\n",
       "      <td>Yemen</td>\n",
       "      <td>77.9</td>\n",
       "      <td>15.2</td>\n",
       "    </tr>\n",
       "    <tr>\n",
       "      <th>143</th>\n",
       "      <td>Zambia</td>\n",
       "      <td>28.1</td>\n",
       "      <td>7.1</td>\n",
       "    </tr>\n",
       "    <tr>\n",
       "      <th>144</th>\n",
       "      <td>Zimbabwe</td>\n",
       "      <td>80.6</td>\n",
       "      <td>14.6</td>\n",
       "    </tr>\n",
       "  </tbody>\n",
       "</table>\n",
       "<p>145 rows × 3 columns</p>\n",
       "</div>"
      ],
      "text/plain": [
       "                 Country  Sugar Consumption (g per day)  \\\n",
       "0            Afghanistan                           24.5   \n",
       "1                Albania                          131.0   \n",
       "2                Algeria                           78.2   \n",
       "3                 Angola                           44.7   \n",
       "4    Antigua and Barbuda                           90.1   \n",
       "..                   ...                            ...   \n",
       "140           Uzbekistan                           27.6   \n",
       "141              Vanuatu                           51.4   \n",
       "142                Yemen                           77.9   \n",
       "143               Zambia                           28.1   \n",
       "144             Zimbabwe                           80.6   \n",
       "\n",
       "     Obesity(% of Population)  \n",
       "0                         4.7  \n",
       "1                        19.9  \n",
       "2                        25.3  \n",
       "3                         7.1  \n",
       "4                        17.5  \n",
       "..                        ...  \n",
       "140                      14.9  \n",
       "141                      23.2  \n",
       "142                      15.2  \n",
       "143                       7.1  \n",
       "144                      14.6  \n",
       "\n",
       "[145 rows x 3 columns]"
      ]
     },
     "execution_count": 22,
     "metadata": {},
     "output_type": "execute_result"
    }
   ],
   "source": [
    "#Study CSV Files\n",
    "sugar_path = \"Resources/sugar_per_person_g_per_day-FAO.csv\"\n",
    "obesity_path = \"Resources/obesity-cleaned - WHO.csv\"\n",
    "\n",
    "#Read CSV Files\n",
    "sugar_data = pd.read_csv(sugar_path)\n",
    "obesity_data = pd.read_csv(obesity_path)\n",
    "\n",
    "\n",
    "#Need to get correlation for Year 2004.  Bad Teeth only has data for 2004.  Need to filter for GNI Data.\n",
    "sugar_2013 = pd.DataFrame(sugar_data,columns = ['Country', '2013'])\n",
    "obesity_2013 = pd.DataFrame(obesity_data,columns = ['Country', '2013'])\n",
    "\n",
    "#Merge 2013 Data\n",
    "sugar_obesity_2013 = pd.merge(sugar_2013, obesity_2013, on=\"Country\", how = \"inner\")\n",
    "\n",
    "\n",
    "\n",
    "\n",
    "sugar_obesity_2013=sugar_obesity_2013.rename(columns={'2013_x': 'Sugar Consumption (g per day)',\n",
    "                                                         '2013_y': 'Obesity(% of Population)',\n",
    "                                                        })\n",
    "sugar_obesity_2013"
   ]
  },
  {
   "cell_type": "code",
   "execution_count": 23,
   "metadata": {},
   "outputs": [],
   "source": [
    "#Export to CSV\n",
    "sugar_obesity_2013.to_csv(\"sugar_obesity_2013.csv\")\n"
   ]
  },
  {
   "cell_type": "code",
   "execution_count": 25,
   "metadata": {},
   "outputs": [
    {
     "name": "stdout",
     "output_type": "stream",
     "text": [
      "The correlation coefficient between obesity vs sugar consuption is 0.65\n",
      "slope = 0.14, intercept = 5.93, r-value = 0.65, p-value = 0.0, standard error = 0.01\n"
     ]
    },
    {
     "data": {
      "image/png": "[encoded data removed]",
      "text/plain": [
       "<Figure size 432x288 with 1 Axes>"
      ]
     },
     "metadata": {
      "needs_background": "light"
     },
     "output_type": "display_data"
    }
   ],
   "source": [
    "# Generate a scatter plot of average tumor volume vs. mouse weight for the Capomulin regimen\n",
    "plt.scatter(sugar_obesity_2013.iloc[:,1], sugar_obesity_2013.iloc[:,2], marker=\"o\", facecolors=\"blue\", edgecolors=\"black\")\n",
    "\n",
    "# Formatting the scatter diagram with title, x & y labels, and x & y limits\n",
    "plt.title (\"Obesity vs Sugar Consumption\")\n",
    "plt.ylabel(\"Sugar Consumption (grams/day)\")\n",
    "plt.xlabel(\"Obesity (% of Population)\")\n",
    "plt.grid()\n",
    "\n",
    "\n",
    "(slope, intercept, rvalue, pvalue, stderr) = linregress(sugar_obesity_2013.iloc[:,1], sugar_obesity_2013.iloc[:,2])\n",
    "# Output of correlation coefficient and linear regression model\n",
    "print(f\"The correlation coefficient between obesity vs sugar consuption is {round(rvalue,2)}\")\n",
    "print(f\"slope = {round(slope,2)}, intercept = {round(intercept,2)}, r-value = {round(rvalue, 2)}, p-value = {round(pvalue,2)}, standard error = {round(stderr,2)}\")\n",
    "\n",
    "# Calculate the values for the regression line (y=mx+b)\n",
    "best_fit = slope * sugar_obesity_2013.iloc[:,1] + intercept\n",
    "\n",
    "# Format the regression line formula to be displayed on the graph\n",
    "best_fit_equation = \"y = \" + str(round(slope, 2)) + \"x +\" + str(round(intercept, 2))\n",
    "\n",
    "# Plot regression line\n",
    "plt.plot(sugar_obesity_2013.iloc[:,1],best_fit,linewidth = 1,color=\"red\")\n",
    "# Plot regression formula on graph\n",
    "plt.annotate(best_fit_equation, (20, 50), fontsize=12, color='red')\n",
    "\n",
    "plt.show()\n",
    "\n"
   ]
  },
  {
   "cell_type": "code",
   "execution_count": null,
   "metadata": {},
   "outputs": [],
   "source": []
  }
 ],
 "metadata": {
  "kernelspec": {
   "display_name": "Python 3",
   "language": "python",
   "name": "python3"
  },
  "language_info": {
   "codemirror_mode": {
    "name": "ipython",
    "version": 3
   },
   "file_extension": ".py",
   "mimetype": "text/x-python",
   "name": "python",
   "nbconvert_exporter": "python",
   "pygments_lexer": "ipython3",
   "version": "3.8.3"
  }
 },
 "nbformat": 4,
 "nbformat_minor": 4
}
