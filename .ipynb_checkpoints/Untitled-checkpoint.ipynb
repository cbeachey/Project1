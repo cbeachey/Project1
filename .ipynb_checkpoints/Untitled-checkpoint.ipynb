{
 "cells": [
  {
   "cell_type": "code",
   "execution_count": 24,
   "metadata": {},
   "outputs": [],
   "source": [
    "import matplotlib.pyplot as plt\n",
    "import pandas as pd\n",
    "import numpy as np\n",
    "from scipy.stats import linregress"
   ]
  },
  {
   "cell_type": "code",
   "execution_count": 25,
   "metadata": {},
   "outputs": [
    {
     "data": {
      "text/html": [
       "<div>\n",
       "<style scoped>\n",
       "    .dataframe tbody tr th:only-of-type {\n",
       "        vertical-align: middle;\n",
       "    }\n",
       "\n",
       "    .dataframe tbody tr th {\n",
       "        vertical-align: top;\n",
       "    }\n",
       "\n",
       "    .dataframe thead th {\n",
       "        text-align: right;\n",
       "    }\n",
       "</style>\n",
       "<table border=\"1\" class=\"dataframe\">\n",
       "  <thead>\n",
       "    <tr style=\"text-align: right;\">\n",
       "      <th></th>\n",
       "      <th>Country</th>\n",
       "      <th>Sugar Consumption (g per day)</th>\n",
       "      <th>Bad Teeth (per child)</th>\n",
       "    </tr>\n",
       "  </thead>\n",
       "  <tbody>\n",
       "    <tr>\n",
       "      <th>0</th>\n",
       "      <td>Afghanistan</td>\n",
       "      <td>1126</td>\n",
       "      <td>2.90</td>\n",
       "    </tr>\n",
       "    <tr>\n",
       "      <th>1</th>\n",
       "      <td>Albania</td>\n",
       "      <td>7147</td>\n",
       "      <td>3.02</td>\n",
       "    </tr>\n",
       "    <tr>\n",
       "      <th>2</th>\n",
       "      <td>Algeria</td>\n",
       "      <td>11305</td>\n",
       "      <td>2.30</td>\n",
       "    </tr>\n",
       "    <tr>\n",
       "      <th>3</th>\n",
       "      <td>Angola</td>\n",
       "      <td>4130</td>\n",
       "      <td>1.70</td>\n",
       "    </tr>\n",
       "    <tr>\n",
       "      <th>4</th>\n",
       "      <td>Antigua and Barbuda</td>\n",
       "      <td>20145</td>\n",
       "      <td>0.70</td>\n",
       "    </tr>\n",
       "    <tr>\n",
       "      <th>...</th>\n",
       "      <td>...</td>\n",
       "      <td>...</td>\n",
       "      <td>...</td>\n",
       "    </tr>\n",
       "    <tr>\n",
       "      <th>145</th>\n",
       "      <td>Uruguay</td>\n",
       "      <td>11576</td>\n",
       "      <td>2.50</td>\n",
       "    </tr>\n",
       "    <tr>\n",
       "      <th>146</th>\n",
       "      <td>Uzbekistan</td>\n",
       "      <td>2910</td>\n",
       "      <td>1.40</td>\n",
       "    </tr>\n",
       "    <tr>\n",
       "      <th>147</th>\n",
       "      <td>Vanuatu</td>\n",
       "      <td>2413</td>\n",
       "      <td>1.20</td>\n",
       "    </tr>\n",
       "    <tr>\n",
       "      <th>148</th>\n",
       "      <td>Zambia</td>\n",
       "      <td>2261</td>\n",
       "      <td>2.30</td>\n",
       "    </tr>\n",
       "    <tr>\n",
       "      <th>149</th>\n",
       "      <td>Zimbabwe</td>\n",
       "      <td>1973</td>\n",
       "      <td>1.30</td>\n",
       "    </tr>\n",
       "  </tbody>\n",
       "</table>\n",
       "<p>150 rows × 3 columns</p>\n",
       "</div>"
      ],
      "text/plain": [
       "                 Country  Sugar Consumption (g per day)  Bad Teeth (per child)\n",
       "0            Afghanistan                           1126                   2.90\n",
       "1                Albania                           7147                   3.02\n",
       "2                Algeria                          11305                   2.30\n",
       "3                 Angola                           4130                   1.70\n",
       "4    Antigua and Barbuda                          20145                   0.70\n",
       "..                   ...                            ...                    ...\n",
       "145              Uruguay                          11576                   2.50\n",
       "146           Uzbekistan                           2910                   1.40\n",
       "147              Vanuatu                           2413                   1.20\n",
       "148               Zambia                           2261                   2.30\n",
       "149             Zimbabwe                           1973                   1.30\n",
       "\n",
       "[150 rows x 3 columns]"
      ]
     },
     "execution_count": 25,
     "metadata": {},
     "output_type": "execute_result"
    }
   ],
   "source": [
    "#Study CSV Files\n",
    "sugar_path = \"Resources/sugar_per_person_g_per_day-FAO.csv\"\n",
    "badteeth_path = \"Resources/badteeth per child age 12 - WHO.csv\"\n",
    "\n",
    "#Read CSV Files\n",
    "sugar_data = pd.read_csv(gni_path)\n",
    "badteeth_data = pd.read_csv(badteeth_path)\n",
    "\n",
    "#Need to get correlation for Year 2004.  Bad Teeth only has data for 2004.  Need to filter for GNI Data.\n",
    "sugar_2004 = pd.DataFrame(gni_data,columns = ['Country', '2004'])\n",
    "\n",
    "#Merge 2004 Data\n",
    "sugar_badteeth_2004 = pd.merge(sugar_2004, badteeth_data, on=\"Country\", how = \"inner\")\n",
    "sugar_badteeth_2004\n",
    "\n",
    "sugar_badteeth_2004= sugar_badteeth_2004.rename(columns={'2004_x': 'Sugar Consumption (g per day)',\n",
    "                                                         '2004_y': 'Bad Teeth (per child)',\n",
    "                                                        })\n",
    "sugar_badteeth_2004"
   ]
  },
  {
   "cell_type": "code",
   "execution_count": 27,
   "metadata": {},
   "outputs": [],
   "source": [
    "#Export to CSV\n",
    "sugar_badteeth_2004.to_csv(\"sugar_badteeth_2004.csv\")\n"
   ]
  },
  {
   "cell_type": "code",
   "execution_count": 35,
   "metadata": {},
   "outputs": [
    {
     "name": "stdout",
     "output_type": "stream",
     "text": [
      "The correlation coefficient between weight and tumor volume for the Capomulin regimen is -0.02\n",
      "slope = -239.06, intercept = 16291.55, r-value = -0.02, p-value = 0.85, standard error = 1283.19\n"
     ]
    },
    {
     "data": {
      "image/png": "[encoded data removed]",
      "text/plain": [
       "<Figure size 432x288 with 1 Axes>"
      ]
     },
     "metadata": {
      "needs_background": "light"
     },
     "output_type": "display_data"
    }
   ],
   "source": [
    "# Generate a scatter plot of average tumor volume vs. mouse weight for the Capomulin regimen\n",
    "plt.scatter(sugar_badteeth_2004.iloc[:,2], sugar_badteeth_2004.iloc[:,1], marker=\"o\", facecolors=\"blue\", edgecolors=\"black\")\n",
    "\n",
    "# Formatting the scatter diagram with title, x & y labels, and x & y limits\n",
    "plt.title (\"Bad Teeth vs Sugar Consumption\")\n",
    "plt.ylabel(\"Sugar Consumption (grams/day)\")\n",
    "plt.xlabel(\"Bad Teeth (per child)\")\n",
    "plt.grid()\n",
    "\n",
    "\n",
    "(slope, intercept, rvalue, pvalue, stderr) = linregress(sugar_badteeth_2004.iloc[:,2], sugar_badteeth_2004.iloc[:,1])\n",
    "# Output of correlation coefficient and linear regression model\n",
    "print(f\"The correlation coefficient between weight and tumor volume for the Capomulin regimen is {round(rvalue,2)}\")\n",
    "print(f\"slope = {round(slope,2)}, intercept = {round(intercept,2)}, r-value = {round(rvalue, 2)}, p-value = {round(pvalue,2)}, standard error = {round(stderr,2)}\")\n",
    "\n",
    "# Calculate the values for the regression line (y=mx+b)\n",
    "best_fit = slope * sugar_badteeth_2004.iloc[:,2] + intercept\n",
    "\n",
    "# Format the regression line formula to be displayed on the graph\n",
    "best_fit_equation = \"y = \" + str(round(slope, 2)) + \"x +\" + str(round(intercept, 2))\n",
    "\n",
    "# Plot regression line\n",
    "plt.plot(sugar_badteeth_2004.iloc[:,2],best_fit,linewidth = 1,color=\"red\")\n",
    "# Plot regression formula on graph\n",
    "plt.annotate(best_fit_equation, (3, 30000), fontsize=12, color='red')\n",
    "\n",
    "plt.show()\n",
    "\n"
   ]
  },
  {
   "cell_type": "code",
   "execution_count": null,
   "metadata": {},
   "outputs": [],
   "source": []
  }
 ],
 "metadata": {
  "kernelspec": {
   "display_name": "Python 3",
   "language": "python",
   "name": "python3"
  },
  "language_info": {
   "codemirror_mode": {
    "name": "ipython",
    "version": 3
   },
   "file_extension": ".py",
   "mimetype": "text/x-python",
   "name": "python",
   "nbconvert_exporter": "python",
   "pygments_lexer": "ipython3",
   "version": "3.8.3"
  }
 },
 "nbformat": 4,
 "nbformat_minor": 4
}
