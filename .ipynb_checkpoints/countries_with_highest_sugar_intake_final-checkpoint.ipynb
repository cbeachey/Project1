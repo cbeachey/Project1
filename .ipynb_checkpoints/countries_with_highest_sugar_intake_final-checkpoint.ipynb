{
 "cells": [
  {
   "cell_type": "code",
   "execution_count": 4,
   "metadata": {},
   "outputs": [],
   "source": [
    "# Dependencies and Setup\n",
    "import pandas as pd\n",
    "import matplotlib.pyplot as plt\n",
    "import numpy as np\n",
    "\n",
    "# File to Load\n",
    "file_path = \"Resources/sugar_per_person_g_per_day-FAO.csv\"\n",
    "\n",
    "# Read Purchasing File and store into Pandas data frame\n",
    "sugar_intake = pd.read_csv(file_path)\n",
    "\n",
    "#sugar_intake.head()"
   ]
  },
  {
   "cell_type": "code",
   "execution_count": 6,
   "metadata": {},
   "outputs": [],
   "source": [
    "#create table with last 3 years\n",
    "sugar_intake_2011 = sugar_intake[['Country','2011']]\n",
    "sugar_intake_2012 = sugar_intake[['Country','2012']]\n",
    "sugar_intake_2013 = sugar_intake[['Country','2013']]\n",
    "                            "
   ]
  },
  {
   "cell_type": "code",
   "execution_count": 7,
   "metadata": {},
   "outputs": [],
   "source": [
    "#get top 3 countires for each year\n",
    "top_2011 = sugar_intake_2011.nlargest(3, ['2011']) \n",
    "top_2012 = sugar_intake_2012.nlargest(3, ['2012']) \n",
    "top_2013 = sugar_intake_2013.nlargest(3, ['2013']) "
   ]
  },
  {
   "cell_type": "code",
   "execution_count": 9,
   "metadata": {},
   "outputs": [
    {
     "data": {
      "text/html": [
       "<div>\n",
       "<style scoped>\n",
       "    .dataframe tbody tr th:only-of-type {\n",
       "        vertical-align: middle;\n",
       "    }\n",
       "\n",
       "    .dataframe tbody tr th {\n",
       "        vertical-align: top;\n",
       "    }\n",
       "\n",
       "    .dataframe thead th {\n",
       "        text-align: right;\n",
       "    }\n",
       "</style>\n",
       "<table border=\"1\" class=\"dataframe\">\n",
       "  <thead>\n",
       "    <tr style=\"text-align: right;\">\n",
       "      <th></th>\n",
       "      <th>Country</th>\n",
       "      <th>2011</th>\n",
       "      <th>2012</th>\n",
       "      <th>2013</th>\n",
       "    </tr>\n",
       "  </thead>\n",
       "  <tbody>\n",
       "    <tr>\n",
       "      <th>0</th>\n",
       "      <td>United States</td>\n",
       "      <td>172.0</td>\n",
       "      <td>174.0</td>\n",
       "      <td>175.0</td>\n",
       "    </tr>\n",
       "    <tr>\n",
       "      <th>1</th>\n",
       "      <td>Malta</td>\n",
       "      <td>165.0</td>\n",
       "      <td>168.0</td>\n",
       "      <td>168.0</td>\n",
       "    </tr>\n",
       "    <tr>\n",
       "      <th>2</th>\n",
       "      <td>Switzerland</td>\n",
       "      <td>160.0</td>\n",
       "      <td>165.0</td>\n",
       "      <td>166.0</td>\n",
       "    </tr>\n",
       "  </tbody>\n",
       "</table>\n",
       "</div>"
      ],
      "text/plain": [
       "         Country   2011   2012   2013\n",
       "0  United States  172.0  174.0  175.0\n",
       "1          Malta  165.0  168.0  168.0\n",
       "2    Switzerland  160.0  165.0  166.0"
      ]
     },
     "execution_count": 9,
     "metadata": {},
     "output_type": "execute_result"
    }
   ],
   "source": [
    "#combine top 3 into one dataframe to create visulaiztions\n",
    "top_combine = pd.merge(top_2011, top_2012, how='outer', on='Country')\n",
    "top_combine = pd.merge(top_combine, top_2013, how='outer', on='Country')\n",
    "\n",
    "\n",
    "top_combine"
   ]
  },
  {
   "cell_type": "code",
   "execution_count": 10,
   "metadata": {},
   "outputs": [
    {
     "data": {
      "text/plain": [
       "Text(0, 0.5, 'Average grams per day')"
      ]
     },
     "execution_count": 10,
     "metadata": {},
     "output_type": "execute_result"
    },
    {
     "data": {
      "image/png": "[encoded data removed]",
      "text/plain": [
       "<Figure size 432x288 with 1 Axes>"
      ]
     },
     "metadata": {
      "needs_background": "light"
     },
     "output_type": "display_data"
    }
   ],
   "source": [
    "top_combine.plot(kind='bar')\n",
    "\n",
    "# Give the chart a title, x label, and y label\n",
    "plt.title(\"Top 3 Countries with highest sugar intake\")\n",
    "plt.xlabel(\"Country\")\n",
    "plt.ylabel(\"Average grams per day\")"
   ]
  },
  {
   "cell_type": "code",
   "execution_count": 12,
   "metadata": {},
   "outputs": [],
   "source": [
    "#10 years of sugar intake \n",
    "sugar_overtime = sugar_intake[['Country','2004','2005','2006','2007','2008','2009','2010','2011','2012','2013']]\n",
    "sugar_overtime.set_index('Country',inplace=True)\n",
    "#sugar_overtime.head()"
   ]
  },
  {
   "cell_type": "code",
   "execution_count": 13,
   "metadata": {},
   "outputs": [
    {
     "data": {
      "text/html": [
       "<div>\n",
       "<style scoped>\n",
       "    .dataframe tbody tr th:only-of-type {\n",
       "        vertical-align: middle;\n",
       "    }\n",
       "\n",
       "    .dataframe tbody tr th {\n",
       "        vertical-align: top;\n",
       "    }\n",
       "\n",
       "    .dataframe thead th {\n",
       "        text-align: right;\n",
       "    }\n",
       "</style>\n",
       "<table border=\"1\" class=\"dataframe\">\n",
       "  <thead>\n",
       "    <tr style=\"text-align: right;\">\n",
       "      <th></th>\n",
       "      <th>2004</th>\n",
       "      <th>2005</th>\n",
       "      <th>2006</th>\n",
       "      <th>2007</th>\n",
       "      <th>2008</th>\n",
       "      <th>2009</th>\n",
       "      <th>2010</th>\n",
       "      <th>2011</th>\n",
       "      <th>2012</th>\n",
       "      <th>2013</th>\n",
       "    </tr>\n",
       "  </thead>\n",
       "  <tbody>\n",
       "    <tr>\n",
       "      <th>Global Average</th>\n",
       "      <td>81.0675</td>\n",
       "      <td>80.81506</td>\n",
       "      <td>82.843571</td>\n",
       "      <td>83.695476</td>\n",
       "      <td>84.071964</td>\n",
       "      <td>83.516071</td>\n",
       "      <td>83.254762</td>\n",
       "      <td>83.62381</td>\n",
       "      <td>84.061905</td>\n",
       "      <td>84.483333</td>\n",
       "    </tr>\n",
       "  </tbody>\n",
       "</table>\n",
       "</div>"
      ],
      "text/plain": [
       "                   2004      2005       2006       2007       2008       2009  \\\n",
       "Global Average  81.0675  80.81506  82.843571  83.695476  84.071964  83.516071   \n",
       "\n",
       "                     2010      2011       2012       2013  \n",
       "Global Average  83.254762  83.62381  84.061905  84.483333  "
      ]
     },
     "execution_count": 13,
     "metadata": {},
     "output_type": "execute_result"
    }
   ],
   "source": [
    "#find mean for each year globally \n",
    "mean_04 = sugar_overtime.mean()['2004']\n",
    "mean_05 = sugar_overtime.mean()['2005']\n",
    "mean_06 = sugar_overtime.mean()['2006']\n",
    "mean_07 = sugar_overtime.mean()['2007']\n",
    "mean_08 = sugar_overtime.mean()['2008']\n",
    "mean_09 = sugar_overtime.mean()['2009']\n",
    "mean_10 = sugar_overtime.mean()['2010']\n",
    "mean_11 = sugar_overtime.mean()['2011']\n",
    "mean_12 = sugar_overtime.mean()['2012']\n",
    "mean_13 = sugar_overtime.mean()['2013']\n",
    "\n",
    "#create df for line plot\n",
    "global_mean_sugar_intake = pd.DataFrame({\n",
    "    '2004':mean_04,\n",
    "    '2005':mean_05,\n",
    "    '2006':mean_06,\n",
    "    '2007':mean_07,\n",
    "    '2008':mean_08,\n",
    "    '2009':mean_09,\n",
    "    '2010':mean_10,\n",
    "    '2011':mean_11,\n",
    "    '2012':mean_12,\n",
    "    '2013':mean_13},index=['Global Average'])\n",
    "\n",
    "global_mean_sugar_intake"
   ]
  },
  {
   "cell_type": "code",
   "execution_count": 14,
   "metadata": {},
   "outputs": [
    {
     "data": {
      "text/html": [
       "<div>\n",
       "<style scoped>\n",
       "    .dataframe tbody tr th:only-of-type {\n",
       "        vertical-align: middle;\n",
       "    }\n",
       "\n",
       "    .dataframe tbody tr th {\n",
       "        vertical-align: top;\n",
       "    }\n",
       "\n",
       "    .dataframe thead th {\n",
       "        text-align: right;\n",
       "    }\n",
       "</style>\n",
       "<table border=\"1\" class=\"dataframe\">\n",
       "  <thead>\n",
       "    <tr style=\"text-align: right;\">\n",
       "      <th></th>\n",
       "      <th>Global Average</th>\n",
       "    </tr>\n",
       "  </thead>\n",
       "  <tbody>\n",
       "    <tr>\n",
       "      <th>2004</th>\n",
       "      <td>81.067500</td>\n",
       "    </tr>\n",
       "    <tr>\n",
       "      <th>2005</th>\n",
       "      <td>80.815060</td>\n",
       "    </tr>\n",
       "    <tr>\n",
       "      <th>2006</th>\n",
       "      <td>82.843571</td>\n",
       "    </tr>\n",
       "    <tr>\n",
       "      <th>2007</th>\n",
       "      <td>83.695476</td>\n",
       "    </tr>\n",
       "    <tr>\n",
       "      <th>2008</th>\n",
       "      <td>84.071964</td>\n",
       "    </tr>\n",
       "    <tr>\n",
       "      <th>2009</th>\n",
       "      <td>83.516071</td>\n",
       "    </tr>\n",
       "    <tr>\n",
       "      <th>2010</th>\n",
       "      <td>83.254762</td>\n",
       "    </tr>\n",
       "    <tr>\n",
       "      <th>2011</th>\n",
       "      <td>83.623810</td>\n",
       "    </tr>\n",
       "    <tr>\n",
       "      <th>2012</th>\n",
       "      <td>84.061905</td>\n",
       "    </tr>\n",
       "    <tr>\n",
       "      <th>2013</th>\n",
       "      <td>84.483333</td>\n",
       "    </tr>\n",
       "  </tbody>\n",
       "</table>\n",
       "</div>"
      ],
      "text/plain": [
       "      Global Average\n",
       "2004       81.067500\n",
       "2005       80.815060\n",
       "2006       82.843571\n",
       "2007       83.695476\n",
       "2008       84.071964\n",
       "2009       83.516071\n",
       "2010       83.254762\n",
       "2011       83.623810\n",
       "2012       84.061905\n",
       "2013       84.483333"
      ]
     },
     "execution_count": 14,
     "metadata": {},
     "output_type": "execute_result"
    }
   ],
   "source": [
    "#trasnpose data for line graph\n",
    "transposed = global_mean_sugar_intake.T\n",
    "transposed"
   ]
  },
  {
   "cell_type": "code",
   "execution_count": 15,
   "metadata": {},
   "outputs": [
    {
     "data": {
      "text/plain": [
       "<matplotlib.legend.Legend at 0x21e7bf55100>"
      ]
     },
     "execution_count": 15,
     "metadata": {},
     "output_type": "execute_result"
    },
    {
     "data": {
      "image/png": "[encoded data removed]",
      "text/plain": [
       "<Figure size 432x288 with 1 Axes>"
      ]
     },
     "metadata": {
      "needs_background": "light"
     },
     "output_type": "display_data"
    }
   ],
   "source": [
    "#plot global average\n",
    "transposed.plot(color='orange')\n",
    "plt.title('Average Global Grams of Sugar per Day')\n",
    "plt.ylabel('Average Grams per day')\n",
    "plt.xlabel('Year')\n",
    "plt.legend(loc='center left', bbox_to_anchor=(1.0, 0.5))"
   ]
  },
  {
   "cell_type": "code",
   "execution_count": 16,
   "metadata": {},
   "outputs": [
    {
     "data": {
      "text/plain": [
       "<Figure size 432x288 with 0 Axes>"
      ]
     },
     "metadata": {},
     "output_type": "display_data"
    }
   ],
   "source": [
    "#top 3 countires + canada of sugar intake over time \n",
    "sugar_overtime_four = sugar_overtime.iloc[[159,95,145,26]]\n",
    "sugar_overtime_four\n",
    "plt.savefig(\"Top 3 Countries - Highest Sugar Intake\")"
   ]
  },
  {
   "cell_type": "code",
   "execution_count": 17,
   "metadata": {},
   "outputs": [
    {
     "data": {
      "text/html": [
       "<div>\n",
       "<style scoped>\n",
       "    .dataframe tbody tr th:only-of-type {\n",
       "        vertical-align: middle;\n",
       "    }\n",
       "\n",
       "    .dataframe tbody tr th {\n",
       "        vertical-align: top;\n",
       "    }\n",
       "\n",
       "    .dataframe thead th {\n",
       "        text-align: right;\n",
       "    }\n",
       "</style>\n",
       "<table border=\"1\" class=\"dataframe\">\n",
       "  <thead>\n",
       "    <tr style=\"text-align: right;\">\n",
       "      <th>Country</th>\n",
       "      <th>United States</th>\n",
       "      <th>Malta</th>\n",
       "      <th>Switzerland</th>\n",
       "      <th>Canada</th>\n",
       "    </tr>\n",
       "  </thead>\n",
       "  <tbody>\n",
       "    <tr>\n",
       "      <th>2004</th>\n",
       "      <td>194.0</td>\n",
       "      <td>150.0</td>\n",
       "      <td>163.0</td>\n",
       "      <td>149.0</td>\n",
       "    </tr>\n",
       "    <tr>\n",
       "      <th>2005</th>\n",
       "      <td>193.0</td>\n",
       "      <td>149.0</td>\n",
       "      <td>161.0</td>\n",
       "      <td>147.0</td>\n",
       "    </tr>\n",
       "    <tr>\n",
       "      <th>2006</th>\n",
       "      <td>187.0</td>\n",
       "      <td>137.0</td>\n",
       "      <td>164.0</td>\n",
       "      <td>145.0</td>\n",
       "    </tr>\n",
       "    <tr>\n",
       "      <th>2007</th>\n",
       "      <td>175.0</td>\n",
       "      <td>137.0</td>\n",
       "      <td>162.0</td>\n",
       "      <td>146.0</td>\n",
       "    </tr>\n",
       "    <tr>\n",
       "      <th>2008</th>\n",
       "      <td>170.0</td>\n",
       "      <td>162.0</td>\n",
       "      <td>163.0</td>\n",
       "      <td>141.0</td>\n",
       "    </tr>\n",
       "    <tr>\n",
       "      <th>2009</th>\n",
       "      <td>165.0</td>\n",
       "      <td>174.0</td>\n",
       "      <td>159.0</td>\n",
       "      <td>136.0</td>\n",
       "    </tr>\n",
       "    <tr>\n",
       "      <th>2010</th>\n",
       "      <td>167.0</td>\n",
       "      <td>171.0</td>\n",
       "      <td>161.0</td>\n",
       "      <td>126.0</td>\n",
       "    </tr>\n",
       "    <tr>\n",
       "      <th>2011</th>\n",
       "      <td>172.0</td>\n",
       "      <td>165.0</td>\n",
       "      <td>160.0</td>\n",
       "      <td>137.0</td>\n",
       "    </tr>\n",
       "    <tr>\n",
       "      <th>2012</th>\n",
       "      <td>174.0</td>\n",
       "      <td>168.0</td>\n",
       "      <td>165.0</td>\n",
       "      <td>132.0</td>\n",
       "    </tr>\n",
       "    <tr>\n",
       "      <th>2013</th>\n",
       "      <td>175.0</td>\n",
       "      <td>168.0</td>\n",
       "      <td>166.0</td>\n",
       "      <td>132.0</td>\n",
       "    </tr>\n",
       "  </tbody>\n",
       "</table>\n",
       "</div>"
      ],
      "text/plain": [
       "Country  United States  Malta  Switzerland  Canada\n",
       "2004             194.0  150.0        163.0   149.0\n",
       "2005             193.0  149.0        161.0   147.0\n",
       "2006             187.0  137.0        164.0   145.0\n",
       "2007             175.0  137.0        162.0   146.0\n",
       "2008             170.0  162.0        163.0   141.0\n",
       "2009             165.0  174.0        159.0   136.0\n",
       "2010             167.0  171.0        161.0   126.0\n",
       "2011             172.0  165.0        160.0   137.0\n",
       "2012             174.0  168.0        165.0   132.0\n",
       "2013             175.0  168.0        166.0   132.0"
      ]
     },
     "execution_count": 17,
     "metadata": {},
     "output_type": "execute_result"
    }
   ],
   "source": [
    "#transpose the data for line graph\n",
    "transposed_countries= sugar_overtime_four.T\n",
    "transposed_countries"
   ]
  },
  {
   "cell_type": "code",
   "execution_count": 18,
   "metadata": {},
   "outputs": [
    {
     "data": {
      "image/png": "[encoded data removed]",
      "text/plain": [
       "<Figure size 432x288 with 1 Axes>"
      ]
     },
     "metadata": {
      "needs_background": "light"
     },
     "output_type": "display_data"
    }
   ],
   "source": [
    "#plot average sugar per day for top 3 counties + Canada beacsue we are Canadian\n",
    "transposed_countries.plot()\n",
    "plt.title('Grams of Sugar per Day')\n",
    "plt.ylabel('Average Grams per day')\n",
    "plt.xlabel('Year')\n",
    "plt.legend(loc='center left', bbox_to_anchor=(1.0, 0.5))\n",
    "plt.savefig(\"Average Global Grames of Sugar per Day\", bbox_inches='tight')"
   ]
  },
  {
   "cell_type": "code",
   "execution_count": 19,
   "metadata": {},
   "outputs": [
    {
     "data": {
      "text/html": [
       "<div>\n",
       "<style scoped>\n",
       "    .dataframe tbody tr th:only-of-type {\n",
       "        vertical-align: middle;\n",
       "    }\n",
       "\n",
       "    .dataframe tbody tr th {\n",
       "        vertical-align: top;\n",
       "    }\n",
       "\n",
       "    .dataframe thead th {\n",
       "        text-align: right;\n",
       "    }\n",
       "</style>\n",
       "<table border=\"1\" class=\"dataframe\">\n",
       "  <thead>\n",
       "    <tr style=\"text-align: right;\">\n",
       "      <th></th>\n",
       "      <th>United States</th>\n",
       "      <th>Malta</th>\n",
       "      <th>Switzerland</th>\n",
       "      <th>Canada</th>\n",
       "      <th>Global Average</th>\n",
       "    </tr>\n",
       "  </thead>\n",
       "  <tbody>\n",
       "    <tr>\n",
       "      <th>2004</th>\n",
       "      <td>194.0</td>\n",
       "      <td>150.0</td>\n",
       "      <td>163.0</td>\n",
       "      <td>149.0</td>\n",
       "      <td>81.067500</td>\n",
       "    </tr>\n",
       "    <tr>\n",
       "      <th>2005</th>\n",
       "      <td>193.0</td>\n",
       "      <td>149.0</td>\n",
       "      <td>161.0</td>\n",
       "      <td>147.0</td>\n",
       "      <td>80.815060</td>\n",
       "    </tr>\n",
       "    <tr>\n",
       "      <th>2006</th>\n",
       "      <td>187.0</td>\n",
       "      <td>137.0</td>\n",
       "      <td>164.0</td>\n",
       "      <td>145.0</td>\n",
       "      <td>82.843571</td>\n",
       "    </tr>\n",
       "    <tr>\n",
       "      <th>2007</th>\n",
       "      <td>175.0</td>\n",
       "      <td>137.0</td>\n",
       "      <td>162.0</td>\n",
       "      <td>146.0</td>\n",
       "      <td>83.695476</td>\n",
       "    </tr>\n",
       "    <tr>\n",
       "      <th>2008</th>\n",
       "      <td>170.0</td>\n",
       "      <td>162.0</td>\n",
       "      <td>163.0</td>\n",
       "      <td>141.0</td>\n",
       "      <td>84.071964</td>\n",
       "    </tr>\n",
       "    <tr>\n",
       "      <th>2009</th>\n",
       "      <td>165.0</td>\n",
       "      <td>174.0</td>\n",
       "      <td>159.0</td>\n",
       "      <td>136.0</td>\n",
       "      <td>83.516071</td>\n",
       "    </tr>\n",
       "    <tr>\n",
       "      <th>2010</th>\n",
       "      <td>167.0</td>\n",
       "      <td>171.0</td>\n",
       "      <td>161.0</td>\n",
       "      <td>126.0</td>\n",
       "      <td>83.254762</td>\n",
       "    </tr>\n",
       "    <tr>\n",
       "      <th>2011</th>\n",
       "      <td>172.0</td>\n",
       "      <td>165.0</td>\n",
       "      <td>160.0</td>\n",
       "      <td>137.0</td>\n",
       "      <td>83.623810</td>\n",
       "    </tr>\n",
       "    <tr>\n",
       "      <th>2012</th>\n",
       "      <td>174.0</td>\n",
       "      <td>168.0</td>\n",
       "      <td>165.0</td>\n",
       "      <td>132.0</td>\n",
       "      <td>84.061905</td>\n",
       "    </tr>\n",
       "    <tr>\n",
       "      <th>2013</th>\n",
       "      <td>175.0</td>\n",
       "      <td>168.0</td>\n",
       "      <td>166.0</td>\n",
       "      <td>132.0</td>\n",
       "      <td>84.483333</td>\n",
       "    </tr>\n",
       "  </tbody>\n",
       "</table>\n",
       "</div>"
      ],
      "text/plain": [
       "      United States  Malta  Switzerland  Canada  Global Average\n",
       "2004          194.0  150.0        163.0   149.0       81.067500\n",
       "2005          193.0  149.0        161.0   147.0       80.815060\n",
       "2006          187.0  137.0        164.0   145.0       82.843571\n",
       "2007          175.0  137.0        162.0   146.0       83.695476\n",
       "2008          170.0  162.0        163.0   141.0       84.071964\n",
       "2009          165.0  174.0        159.0   136.0       83.516071\n",
       "2010          167.0  171.0        161.0   126.0       83.254762\n",
       "2011          172.0  165.0        160.0   137.0       83.623810\n",
       "2012          174.0  168.0        165.0   132.0       84.061905\n",
       "2013          175.0  168.0        166.0   132.0       84.483333"
      ]
     },
     "execution_count": 19,
     "metadata": {},
     "output_type": "execute_result"
    }
   ],
   "source": [
    "#Global Avegare merged with top countries \n",
    "global_vs_countries = pd.merge(transposed_countries, transposed,left_index=True, right_index=True)\n",
    "global_vs_countries "
   ]
  },
  {
   "cell_type": "code",
   "execution_count": 20,
   "metadata": {},
   "outputs": [
    {
     "data": {
      "text/html": [
       "<div>\n",
       "<style scoped>\n",
       "    .dataframe tbody tr th:only-of-type {\n",
       "        vertical-align: middle;\n",
       "    }\n",
       "\n",
       "    .dataframe tbody tr th {\n",
       "        vertical-align: top;\n",
       "    }\n",
       "\n",
       "    .dataframe thead th {\n",
       "        text-align: right;\n",
       "    }\n",
       "</style>\n",
       "<table border=\"1\" class=\"dataframe\">\n",
       "  <thead>\n",
       "    <tr style=\"text-align: right;\">\n",
       "      <th></th>\n",
       "      <th>Global Average</th>\n",
       "      <th>United States</th>\n",
       "      <th>Canada</th>\n",
       "    </tr>\n",
       "  </thead>\n",
       "  <tbody>\n",
       "    <tr>\n",
       "      <th>2004</th>\n",
       "      <td>81.067500</td>\n",
       "      <td>194.0</td>\n",
       "      <td>149.0</td>\n",
       "    </tr>\n",
       "    <tr>\n",
       "      <th>2005</th>\n",
       "      <td>80.815060</td>\n",
       "      <td>193.0</td>\n",
       "      <td>147.0</td>\n",
       "    </tr>\n",
       "    <tr>\n",
       "      <th>2006</th>\n",
       "      <td>82.843571</td>\n",
       "      <td>187.0</td>\n",
       "      <td>145.0</td>\n",
       "    </tr>\n",
       "    <tr>\n",
       "      <th>2007</th>\n",
       "      <td>83.695476</td>\n",
       "      <td>175.0</td>\n",
       "      <td>146.0</td>\n",
       "    </tr>\n",
       "    <tr>\n",
       "      <th>2008</th>\n",
       "      <td>84.071964</td>\n",
       "      <td>170.0</td>\n",
       "      <td>141.0</td>\n",
       "    </tr>\n",
       "    <tr>\n",
       "      <th>2009</th>\n",
       "      <td>83.516071</td>\n",
       "      <td>165.0</td>\n",
       "      <td>136.0</td>\n",
       "    </tr>\n",
       "    <tr>\n",
       "      <th>2010</th>\n",
       "      <td>83.254762</td>\n",
       "      <td>167.0</td>\n",
       "      <td>126.0</td>\n",
       "    </tr>\n",
       "    <tr>\n",
       "      <th>2011</th>\n",
       "      <td>83.623810</td>\n",
       "      <td>172.0</td>\n",
       "      <td>137.0</td>\n",
       "    </tr>\n",
       "    <tr>\n",
       "      <th>2012</th>\n",
       "      <td>84.061905</td>\n",
       "      <td>174.0</td>\n",
       "      <td>132.0</td>\n",
       "    </tr>\n",
       "    <tr>\n",
       "      <th>2013</th>\n",
       "      <td>84.483333</td>\n",
       "      <td>175.0</td>\n",
       "      <td>132.0</td>\n",
       "    </tr>\n",
       "  </tbody>\n",
       "</table>\n",
       "</div>"
      ],
      "text/plain": [
       "      Global Average  United States  Canada\n",
       "2004       81.067500          194.0   149.0\n",
       "2005       80.815060          193.0   147.0\n",
       "2006       82.843571          187.0   145.0\n",
       "2007       83.695476          175.0   146.0\n",
       "2008       84.071964          170.0   141.0\n",
       "2009       83.516071          165.0   136.0\n",
       "2010       83.254762          167.0   126.0\n",
       "2011       83.623810          172.0   137.0\n",
       "2012       84.061905          174.0   132.0\n",
       "2013       84.483333          175.0   132.0"
      ]
     },
     "execution_count": 20,
     "metadata": {},
     "output_type": "execute_result"
    }
   ],
   "source": [
    "#create data frame to plot global average vs top county + Canada beacuse we are Canada \n",
    "global_vs_US_CAD = global_vs_countries[['Global Average','United States','Canada']]\n",
    "global_vs_US_CAD"
   ]
  },
  {
   "cell_type": "code",
   "execution_count": 21,
   "metadata": {},
   "outputs": [
    {
     "data": {
      "image/png": "[encoded data removed]",
      "text/plain": [
       "<Figure size 432x288 with 1 Axes>"
      ]
     },
     "metadata": {
      "needs_background": "light"
     },
     "output_type": "display_data"
    }
   ],
   "source": [
    "#plot global average vs top county + Canada beacuse we are Canada \n",
    "global_vs_US_CAD.plot()\n",
    "plt.title('Grams of Sugar per Day US and Canada vs Global')\n",
    "plt.ylabel('Average Grams per day')\n",
    "plt.xlabel('Year')\n",
    "plt.legend(loc='center left', bbox_to_anchor=(1.0, 0.5))\n",
    "plt.savefig(\"Average Global Grames of Sugar per Day\", bbox_inches='tight')"
   ]
  },
  {
   "cell_type": "code",
   "execution_count": 22,
   "metadata": {},
   "outputs": [],
   "source": [
    "#canada's ranking for 2011,2012,2013\n",
    "canada_2011 = sugar_intake_2011.iloc[[26]].sort_values(by=\"2011\",ascending=False)\n",
    "canada_2012 = sugar_intake_2012.iloc[[26]].sort_values(by=\"2012\",ascending=False)\n",
    "canada_2013 = sugar_intake_2013.iloc[[26]].sort_values(by=\"2013\",ascending=False)\n",
    "\n",
    "#print(canada_2011) - 26th\n",
    "#print(canada_2012) - 26th\n",
    "#print(canada_2013) - 26th"
   ]
  },
  {
   "cell_type": "code",
   "execution_count": null,
   "metadata": {},
   "outputs": [],
   "source": []
  }
 ],
 "metadata": {
  "kernelspec": {
   "display_name": "Python 3",
   "language": "python",
   "name": "python3"
  },
  "language_info": {
   "codemirror_mode": {
    "name": "ipython",
    "version": 3
   },
   "file_extension": ".py",
   "mimetype": "text/x-python",
   "name": "python",
   "nbconvert_exporter": "python",
   "pygments_lexer": "ipython3",
   "version": "3.8.3"
  }
 },
 "nbformat": 4,
 "nbformat_minor": 4
}
