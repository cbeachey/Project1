{
 "cells": [
  {
   "cell_type": "code",
   "execution_count": 1,
   "metadata": {},
   "outputs": [
    {
     "name": "stdout",
     "output_type": "stream",
     "text": [
      "Searching for fatsecret\n",
      "Best match: fatsecret 0.2.3\n",
      "Processing fatsecret-0.2.3-py3.8.egg\n",
      "fatsecret 0.2.3 is already the active version in easy-install.pth\n",
      "\n",
      "Using c:\\users\\kapil\\anaconda3\\lib\\site-packages\\fatsecret-0.2.3-py3.8.egg\n",
      "Processing dependencies for fatsecret\n",
      "Finished processing dependencies for fatsecret\n"
     ]
    },
    {
     "name": "stderr",
     "output_type": "stream",
     "text": [
      "WARNING: The easy_install command is deprecated and will be removed in a future version.\n"
     ]
    }
   ],
   "source": [
    "! easy_install fatsecret\n",
    "\n"
   ]
  },
  {
   "cell_type": "code",
   "execution_count": 2,
   "metadata": {},
   "outputs": [
    {
     "name": "stdout",
     "output_type": "stream",
     "text": [
      "Requirement already satisfied: fatsecret in c:\\users\\kapil\\anaconda3\\lib\\site-packages\\fatsecret-0.2.3-py3.8.egg (0.2.3)\n",
      "Requirement already satisfied: requests in c:\\users\\kapil\\anaconda3\\lib\\site-packages (from fatsecret) (2.24.0)\n",
      "Requirement already satisfied: rauth in c:\\users\\kapil\\anaconda3\\lib\\site-packages\\rauth-0.7.3-py3.8.egg (from fatsecret) (0.7.3)\n",
      "Requirement already satisfied: idna<3,>=2.5 in c:\\users\\kapil\\anaconda3\\lib\\site-packages (from requests->fatsecret) (2.10)\n",
      "Requirement already satisfied: chardet<4,>=3.0.2 in c:\\users\\kapil\\anaconda3\\lib\\site-packages (from requests->fatsecret) (3.0.4)\n",
      "Requirement already satisfied: certifi>=2017.4.17 in c:\\users\\kapil\\anaconda3\\lib\\site-packages (from requests->fatsecret) (2020.6.20)\n",
      "Requirement already satisfied: urllib3!=1.25.0,!=1.25.1,<1.26,>=1.21.1 in c:\\users\\kapil\\anaconda3\\lib\\site-packages (from requests->fatsecret) (1.25.9)\n"
     ]
    }
   ],
   "source": [
    "! pip install fatsecret"
   ]
  },
  {
   "cell_type": "code",
   "execution_count": 13,
   "metadata": {},
   "outputs": [],
   "source": [
    "import matplotlib.pyplot as plt\n",
    "import pandas as pd\n",
    "import numpy as np\n",
    "import requests\n",
    "import time\n",
    "from scipy.stats import linregress\n",
    "from pprint import pprint\n",
    "from fatsecret import Fatsecret\n",
    "#from config import api_key - to put in git ignore. "
   ]
  },
  {
   "cell_type": "code",
   "execution_count": 14,
   "metadata": {},
   "outputs": [],
   "source": [
    "consumer_key='a12a75d9e9d249a1ba18e07b67f05510'\n",
    "consumer_secret='9b337097f25c44ba9eca8a7a9a6857e0'"
   ]
  },
  {
   "cell_type": "code",
   "execution_count": 15,
   "metadata": {},
   "outputs": [],
   "source": [
    "fs=Fatsecret(consumer_key, consumer_secret)"
   ]
  },
  {
   "cell_type": "code",
   "execution_count": 22,
   "metadata": {},
   "outputs": [
    {
     "name": "stdout",
     "output_type": "stream",
     "text": [
      "[{'brand_name': 'Mountain Dew',\n",
      "  'food_description': 'Per 8 fl oz - Calories: 110kcal | Fat: 0.00g | Carbs: '\n",
      "                      '31.00g | Protein: 0.00g',\n",
      "  'food_id': '41511',\n",
      "  'food_name': 'Mountain Dew',\n",
      "  'food_type': 'Brand',\n",
      "  'food_url': 'https://www.fatsecret.com/calories-nutrition/mountain-dew/mountain-dew'},\n",
      " {'brand_name': 'Coca-Cola',\n",
      "  'food_description': 'Per 1 can - Calories: 140kcal | Fat: 0.00g | Carbs: '\n",
      "                      '39.00g | Protein: 0.00g',\n",
      "  'food_id': '135673',\n",
      "  'food_name': 'Coca-Cola Classic (100 Calorie)',\n",
      "  'food_type': 'Brand',\n",
      "  'food_url': 'https://www.fatsecret.com/calories-nutrition/coca-cola/coca-cola-classic-(100-calorie)'},\n",
      " {'brand_name': 'Coca-Cola',\n",
      "  'food_description': 'Per 1 can - Calories: 140kcal | Fat: 0.00g | Carbs: '\n",
      "                      '38.00g | Protein: 0.00g',\n",
      "  'food_id': '62739',\n",
      "  'food_name': 'Sprite',\n",
      "  'food_type': 'Brand',\n",
      "  'food_url': 'https://www.fatsecret.com/calories-nutrition/coca-cola/sprite'},\n",
      " {'brand_name': 'Coca-Cola',\n",
      "  'food_description': 'Per 1 bottle - Calories: 0kcal | Fat: 0.00g | Carbs: '\n",
      "                      '0.00g | Protein: 0.00g',\n",
      "  'food_id': '48643',\n",
      "  'food_name': 'Coke Zero (20 oz)',\n",
      "  'food_type': 'Brand',\n",
      "  'food_url': 'https://www.fatsecret.com/calories-nutrition/coca-cola/coke-zero-(20-oz)/1-bottle'},\n",
      " {'brand_name': 'Mountain Dew',\n",
      "  'food_description': 'Per 1 can - Calories: 170kcal | Fat: 0.00g | Carbs: '\n",
      "                      '46.00g | Protein: 0.00g',\n",
      "  'food_id': '54906',\n",
      "  'food_name': 'Mountain Dew (12 oz)',\n",
      "  'food_type': 'Brand',\n",
      "  'food_url': 'https://www.fatsecret.com/calories-nutrition/mountain-dew/mountain-dew-(12-oz)/1-can'},\n",
      " {'brand_name': 'Pepsi',\n",
      "  'food_description': 'Per 8 fl oz - Calories: 100kcal | Fat: 0.00g | Carbs: '\n",
      "                      '28.00g | Protein: 0.00g',\n",
      "  'food_id': '76090',\n",
      "  'food_name': 'Pepsi',\n",
      "  'food_type': 'Brand',\n",
      "  'food_url': 'https://www.fatsecret.com/calories-nutrition/pepsi/pepsi'},\n",
      " {'brand_name': 'Blue Sky',\n",
      "  'food_description': 'Per 1 can - Calories: 170kcal | Fat: 0.00g | Carbs: '\n",
      "                      '46.00g | Protein: 0.00g',\n",
      "  'food_id': '88136',\n",
      "  'food_name': 'Natural Cream Soda',\n",
      "  'food_type': 'Brand',\n",
      "  'food_url': 'https://www.fatsecret.com/calories-nutrition/blue-sky/natural-cream-soda'},\n",
      " {'brand_name': 'Coca-Cola',\n",
      "  'food_description': 'Per 8 fl oz - Calories: 0kcal | Fat: 0.00g | Carbs: '\n",
      "                      '0.00g | Protein: 0.00g',\n",
      "  'food_id': '90946',\n",
      "  'food_name': 'Diet Coke',\n",
      "  'food_type': 'Brand',\n",
      "  'food_url': 'https://www.fatsecret.com/calories-nutrition/coca-cola/diet-coke'},\n",
      " {'brand_name': \"Arby's\",\n",
      "  'food_description': 'Per 1 serving - Calories: 180kcal | Fat: 0.00g | Carbs: '\n",
      "                      '52.00g | Protein: 0.00g',\n",
      "  'food_id': '96824',\n",
      "  'food_name': 'Dr Pepper (16 oz)',\n",
      "  'food_type': 'Brand',\n",
      "  'food_url': 'https://www.fatsecret.com/calories-nutrition/arbys/dr-pepper-(16-oz)'},\n",
      " {'food_description': 'Per 100g - Calories: 38kcal | Fat: 0.01g | Carbs: 9.77g '\n",
      "                      '| Protein: 0.07g',\n",
      "  'food_id': '387673',\n",
      "  'food_name': 'Soda',\n",
      "  'food_type': 'Generic',\n",
      "  'food_url': 'https://www.fatsecret.com/calories-nutrition/generic/soda'},\n",
      " {'brand_name': 'Coca-Cola',\n",
      "  'food_description': 'Per 1 can - Calories: 0kcal | Fat: 0.00g | Carbs: 0.00g '\n",
      "                      '| Protein: 0.00g',\n",
      "  'food_id': '51878',\n",
      "  'food_name': 'Diet Coke (Can)',\n",
      "  'food_type': 'Brand',\n",
      "  'food_url': 'https://www.fatsecret.com/calories-nutrition/coca-cola/diet-coke-(can)'},\n",
      " {'brand_name': 'Coca-Cola',\n",
      "  'food_description': 'Per 8 fl oz - Calories: 0kcal | Fat: 0.00g | Carbs: '\n",
      "                      '0.00g | Protein: 0.00g',\n",
      "  'food_id': '43580',\n",
      "  'food_name': 'Coke Zero',\n",
      "  'food_type': 'Brand',\n",
      "  'food_url': 'https://www.fatsecret.com/calories-nutrition/coca-cola/coke-zero/240-ml'},\n",
      " {'brand_name': 'Sunkist',\n",
      "  'food_description': 'Per 1 can - Calories: 0kcal | Fat: 0.00g | Carbs: 0.00g '\n",
      "                      '| Protein: 0.00g',\n",
      "  'food_id': '62488',\n",
      "  'food_name': 'Diet Orange Soda (Can)',\n",
      "  'food_type': 'Brand',\n",
      "  'food_url': 'https://www.fatsecret.com/calories-nutrition/sunkist/diet-orange-soda-(can)'},\n",
      " {'brand_name': 'Chick-fil-A',\n",
      "  'food_description': 'Per 1 serving - Calories: 180kcal | Fat: 0.00g | Carbs: '\n",
      "                      '48.00g | Protein: 0.00g',\n",
      "  'food_id': '60152',\n",
      "  'food_name': 'Dr Pepper (Medium)',\n",
      "  'food_type': 'Brand',\n",
      "  'food_url': 'https://www.fatsecret.com/calories-nutrition/chick-fil-a/dr-pepper-(medium)'},\n",
      " {'brand_name': 'Coca-Cola',\n",
      "  'food_description': 'Per 1 can - Calories: 140kcal | Fat: 0.00g | Carbs: '\n",
      "                      '38.00g | Protein: 0.00g',\n",
      "  'food_id': '94773',\n",
      "  'food_name': 'Sprite (Can)',\n",
      "  'food_type': 'Brand',\n",
      "  'food_url': 'https://www.fatsecret.com/calories-nutrition/coca-cola/sprite-(can)'},\n",
      " {'brand_name': 'Burger King',\n",
      "  'food_description': 'Per 1 serving - Calories: 380kcal | Fat: 0.00g | Carbs: '\n",
      "                      '102.00g | Protein: 0.00g',\n",
      "  'food_id': '105098',\n",
      "  'food_name': 'Coca Cola Classic (Large)',\n",
      "  'food_type': 'Brand',\n",
      "  'food_url': 'https://www.fatsecret.com/calories-nutrition/burger-king/coca-cola-classic-(large)'},\n",
      " {'brand_name': 'Mug',\n",
      "  'food_description': 'Per 8 fl oz - Calories: 0kcal | Fat: 0.00g | Carbs: '\n",
      "                      '0.00g | Protein: 0.00g',\n",
      "  'food_id': '76863',\n",
      "  'food_name': 'Diet Cream Soda',\n",
      "  'food_type': 'Brand',\n",
      "  'food_url': 'https://www.fatsecret.com/calories-nutrition/mug/diet-cream-soda'},\n",
      " {'brand_name': 'Kroger',\n",
      "  'food_description': 'Per 1 can - Calories: 160kcal | Fat: 0.00g | Carbs: '\n",
      "                      '41.00g | Protein: 0.00g',\n",
      "  'food_id': '133981',\n",
      "  'food_name': 'Big K Cola (Can)',\n",
      "  'food_type': 'Brand',\n",
      "  'food_url': 'https://www.fatsecret.com/calories-nutrition/kroger/big-k-cola-(can)'},\n",
      " {'brand_name': 'KFC',\n",
      "  'food_description': 'Per 1 serving - Calories: 280kcal | Fat: 0.00g | Carbs: '\n",
      "                      '73.00g | Protein: 0.00g',\n",
      "  'food_id': '130495',\n",
      "  'food_name': 'Mountain Dew (20 oz)',\n",
      "  'food_type': 'Brand',\n",
      "  'food_url': 'https://www.fatsecret.com/calories-nutrition/kfc/mountain-dew-(20-oz)'},\n",
      " {'brand_name': 'Dr. Pepper',\n",
      "  'food_description': 'Per 1 can - Calories: 0kcal | Fat: 0.00g | Carbs: 0.00g '\n",
      "                      '| Protein: 0.00g',\n",
      "  'food_id': '66137',\n",
      "  'food_name': 'Diet Dr. Pepper (Can)',\n",
      "  'food_type': 'Brand',\n",
      "  'food_url': 'https://www.fatsecret.com/calories-nutrition/dr-pepper/diet-dr-pepper-(can)'}]\n"
     ]
    }
   ],
   "source": [
    "pprint(fs.foods_search(\"sodas\"))"
   ]
  },
  {
   "cell_type": "code",
   "execution_count": 19,
   "metadata": {},
   "outputs": [
    {
     "ename": "NameError",
     "evalue": "name 'sodas' is not defined",
     "output_type": "error",
     "traceback": [
      "\u001b[1;31m---------------------------------------------------------------------------\u001b[0m",
      "\u001b[1;31mNameError\u001b[0m                                 Traceback (most recent call last)",
      "\u001b[1;32m<ipython-input-19-199c51324110>\u001b[0m in \u001b[0;36m<module>\u001b[1;34m\u001b[0m\n\u001b[1;32m----> 1\u001b[1;33m \u001b[0mpprint\u001b[0m\u001b[1;33m(\u001b[0m\u001b[0msodas\u001b[0m\u001b[1;33m)\u001b[0m\u001b[1;33m\u001b[0m\u001b[1;33m\u001b[0m\u001b[0m\n\u001b[0m",
      "\u001b[1;31mNameError\u001b[0m: name 'sodas' is not defined"
     ]
    }
   ],
   "source": []
  },
  {
   "cell_type": "code",
   "execution_count": null,
   "metadata": {},
   "outputs": [],
   "source": [
    "pprint(response)"
   ]
  },
  {
   "cell_type": "code",
   "execution_count": null,
   "metadata": {},
   "outputs": [],
   "source": []
  }
 ],
 "metadata": {
  "kernelspec": {
   "display_name": "Python 3",
   "language": "python",
   "name": "python3"
  },
  "language_info": {
   "codemirror_mode": {
    "name": "ipython",
    "version": 3
   },
   "file_extension": ".py",
   "mimetype": "text/x-python",
   "name": "python",
   "nbconvert_exporter": "python",
   "pygments_lexer": "ipython3",
   "version": "3.8.3"
  }
 },
 "nbformat": 4,
 "nbformat_minor": 4
}
