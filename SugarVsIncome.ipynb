{
 "cells": [
  {
   "cell_type": "code",
   "execution_count": 1,
   "metadata": {},
   "outputs": [],
   "source": [
    "import pandas as pd\n",
    "import matplotlib.pyplot as plt\n",
    "import scipy.stats as sts\n",
    "import numpy as np\n",
    "from scipy.stats import linregress"
   ]
  },
  {
   "cell_type": "code",
   "execution_count": 2,
   "metadata": {},
   "outputs": [],
   "source": [
    "filepath = 'Resources/Income by Country.csv'\n",
    "sugar_file = 'Resources/sugar_per_person_g_per_day.csv'\n",
    "\n",
    "df = pd.read_csv(filepath)\n",
    "df_sug = pd.read_csv(sugar_file).rename(columns={'country': 'Country'})\n"
   ]
  },
  {
   "cell_type": "code",
   "execution_count": 3,
   "metadata": {
    "scrolled": false
   },
   "outputs": [
    {
     "data": {
      "text/html": [
       "<div>\n",
       "<style scoped>\n",
       "    .dataframe tbody tr th:only-of-type {\n",
       "        vertical-align: middle;\n",
       "    }\n",
       "\n",
       "    .dataframe tbody tr th {\n",
       "        vertical-align: top;\n",
       "    }\n",
       "\n",
       "    .dataframe thead th {\n",
       "        text-align: right;\n",
       "    }\n",
       "</style>\n",
       "<table border=\"1\" class=\"dataframe\">\n",
       "  <thead>\n",
       "    <tr style=\"text-align: right;\">\n",
       "      <th></th>\n",
       "      <th>1990</th>\n",
       "      <th>1991</th>\n",
       "      <th>1992</th>\n",
       "      <th>1993_Income</th>\n",
       "      <th>1994_Income</th>\n",
       "      <th>1995_Income</th>\n",
       "      <th>1996_Income</th>\n",
       "      <th>1997_Income</th>\n",
       "      <th>1998_Income</th>\n",
       "      <th>1999_Income</th>\n",
       "      <th>...</th>\n",
       "      <th>2004_SugarIntake</th>\n",
       "      <th>2005_SugarIntake</th>\n",
       "      <th>2006_SugarIntake</th>\n",
       "      <th>2007_SugarIntake</th>\n",
       "      <th>2008_SugarIntake</th>\n",
       "      <th>2009_SugarIntake</th>\n",
       "      <th>2010_SugarIntake</th>\n",
       "      <th>2011_SugarIntake</th>\n",
       "      <th>2012_SugarIntake</th>\n",
       "      <th>2013_SugarIntake</th>\n",
       "    </tr>\n",
       "    <tr>\n",
       "      <th>Country</th>\n",
       "      <th></th>\n",
       "      <th></th>\n",
       "      <th></th>\n",
       "      <th></th>\n",
       "      <th></th>\n",
       "      <th></th>\n",
       "      <th></th>\n",
       "      <th></th>\n",
       "      <th></th>\n",
       "      <th></th>\n",
       "      <th></th>\n",
       "      <th></th>\n",
       "      <th></th>\n",
       "      <th></th>\n",
       "      <th></th>\n",
       "      <th></th>\n",
       "      <th></th>\n",
       "      <th></th>\n",
       "      <th></th>\n",
       "      <th></th>\n",
       "      <th></th>\n",
       "    </tr>\n",
       "  </thead>\n",
       "  <tbody>\n",
       "    <tr>\n",
       "      <th>Afghanistan</th>\n",
       "      <td>2193</td>\n",
       "      <td>1841</td>\n",
       "      <td>1739</td>\n",
       "      <td>1208</td>\n",
       "      <td>877</td>\n",
       "      <td>1244</td>\n",
       "      <td>1130</td>\n",
       "      <td>1039</td>\n",
       "      <td>967</td>\n",
       "      <td>894</td>\n",
       "      <td>...</td>\n",
       "      <td>15.5</td>\n",
       "      <td>18.6</td>\n",
       "      <td>19.7</td>\n",
       "      <td>20.8</td>\n",
       "      <td>23.4</td>\n",
       "      <td>23.3</td>\n",
       "      <td>24.3</td>\n",
       "      <td>24.8</td>\n",
       "      <td>25.4</td>\n",
       "      <td>24.5</td>\n",
       "    </tr>\n",
       "    <tr>\n",
       "      <th>Albania</th>\n",
       "      <td>4415</td>\n",
       "      <td>3138</td>\n",
       "      <td>2857</td>\n",
       "      <td>3261</td>\n",
       "      <td>3600</td>\n",
       "      <td>4168</td>\n",
       "      <td>4594</td>\n",
       "      <td>4112</td>\n",
       "      <td>4530</td>\n",
       "      <td>5141</td>\n",
       "      <td>...</td>\n",
       "      <td>55.0</td>\n",
       "      <td>58.6</td>\n",
       "      <td>67.2</td>\n",
       "      <td>75.5</td>\n",
       "      <td>102.0</td>\n",
       "      <td>117.0</td>\n",
       "      <td>113.0</td>\n",
       "      <td>122.0</td>\n",
       "      <td>129.0</td>\n",
       "      <td>131.0</td>\n",
       "    </tr>\n",
       "    <tr>\n",
       "      <th>Algeria</th>\n",
       "      <td>9989</td>\n",
       "      <td>9457</td>\n",
       "      <td>9462</td>\n",
       "      <td>9171</td>\n",
       "      <td>8847</td>\n",
       "      <td>8904</td>\n",
       "      <td>9069</td>\n",
       "      <td>9099</td>\n",
       "      <td>9502</td>\n",
       "      <td>9596</td>\n",
       "      <td>...</td>\n",
       "      <td>84.3</td>\n",
       "      <td>75.5</td>\n",
       "      <td>77.9</td>\n",
       "      <td>86.7</td>\n",
       "      <td>78.5</td>\n",
       "      <td>85.3</td>\n",
       "      <td>85.6</td>\n",
       "      <td>74.9</td>\n",
       "      <td>82.8</td>\n",
       "      <td>78.2</td>\n",
       "    </tr>\n",
       "    <tr>\n",
       "      <th>Angola</th>\n",
       "      <td>4139</td>\n",
       "      <td>4528</td>\n",
       "      <td>1737</td>\n",
       "      <td>1704</td>\n",
       "      <td>1304</td>\n",
       "      <td>2858</td>\n",
       "      <td>2826</td>\n",
       "      <td>3335</td>\n",
       "      <td>3269</td>\n",
       "      <td>2952</td>\n",
       "      <td>...</td>\n",
       "      <td>39.3</td>\n",
       "      <td>37.1</td>\n",
       "      <td>38.3</td>\n",
       "      <td>39.5</td>\n",
       "      <td>44.1</td>\n",
       "      <td>40.2</td>\n",
       "      <td>38.9</td>\n",
       "      <td>40.1</td>\n",
       "      <td>42.7</td>\n",
       "      <td>44.7</td>\n",
       "    </tr>\n",
       "    <tr>\n",
       "      <th>Antigua and Barbuda</th>\n",
       "      <td>15749</td>\n",
       "      <td>16439</td>\n",
       "      <td>16475</td>\n",
       "      <td>17300</td>\n",
       "      <td>18021</td>\n",
       "      <td>16842</td>\n",
       "      <td>17665</td>\n",
       "      <td>18401</td>\n",
       "      <td>18943</td>\n",
       "      <td>19230</td>\n",
       "      <td>...</td>\n",
       "      <td>93.1</td>\n",
       "      <td>79.7</td>\n",
       "      <td>85.0</td>\n",
       "      <td>87.3</td>\n",
       "      <td>89.2</td>\n",
       "      <td>87.6</td>\n",
       "      <td>87.6</td>\n",
       "      <td>79.6</td>\n",
       "      <td>87.9</td>\n",
       "      <td>90.1</td>\n",
       "    </tr>\n",
       "  </tbody>\n",
       "</table>\n",
       "<p>5 rows × 50 columns</p>\n",
       "</div>"
      ],
      "text/plain": [
       "                      1990   1991   1992 1993_Income 1994_Income 1995_Income  \\\n",
       "Country                                                                        \n",
       "Afghanistan           2193   1841   1739        1208         877        1244   \n",
       "Albania               4415   3138   2857        3261        3600        4168   \n",
       "Algeria               9989   9457   9462        9171        8847        8904   \n",
       "Angola                4139   4528   1737        1704        1304        2858   \n",
       "Antigua and Barbuda  15749  16439  16475       17300       18021       16842   \n",
       "\n",
       "                    1996_Income 1997_Income 1998_Income 1999_Income  ...  \\\n",
       "Country                                                              ...   \n",
       "Afghanistan                1130        1039         967         894  ...   \n",
       "Albania                    4594        4112        4530        5141  ...   \n",
       "Algeria                    9069        9099        9502        9596  ...   \n",
       "Angola                     2826        3335        3269        2952  ...   \n",
       "Antigua and Barbuda       17665       18401       18943       19230  ...   \n",
       "\n",
       "                    2004_SugarIntake 2005_SugarIntake 2006_SugarIntake  \\\n",
       "Country                                                                  \n",
       "Afghanistan                     15.5             18.6             19.7   \n",
       "Albania                         55.0             58.6             67.2   \n",
       "Algeria                         84.3             75.5             77.9   \n",
       "Angola                          39.3             37.1             38.3   \n",
       "Antigua and Barbuda             93.1             79.7             85.0   \n",
       "\n",
       "                    2007_SugarIntake 2008_SugarIntake 2009_SugarIntake  \\\n",
       "Country                                                                  \n",
       "Afghanistan                     20.8             23.4             23.3   \n",
       "Albania                         75.5            102.0            117.0   \n",
       "Algeria                         86.7             78.5             85.3   \n",
       "Angola                          39.5             44.1             40.2   \n",
       "Antigua and Barbuda             87.3             89.2             87.6   \n",
       "\n",
       "                    2010_SugarIntake 2011_SugarIntake 2012_SugarIntake  \\\n",
       "Country                                                                  \n",
       "Afghanistan                     24.3             24.8             25.4   \n",
       "Albania                        113.0            122.0            129.0   \n",
       "Algeria                         85.6             74.9             82.8   \n",
       "Angola                          38.9             40.1             42.7   \n",
       "Antigua and Barbuda             87.6             79.6             87.9   \n",
       "\n",
       "                    2013_SugarIntake  \n",
       "Country                               \n",
       "Afghanistan                     24.5  \n",
       "Albania                        131.0  \n",
       "Algeria                         78.2  \n",
       "Angola                          44.7  \n",
       "Antigua and Barbuda             90.1  \n",
       "\n",
       "[5 rows x 50 columns]"
      ]
     },
     "execution_count": 3,
     "metadata": {},
     "output_type": "execute_result"
    }
   ],
   "source": [
    "#Create Merged Data Frame\n",
    "merged_df = pd.merge(df, df_sug, on=\"Country\", how=\"inner\", suffixes= (\"_Income\", \"_SugarIntake\"))\n",
    "merged_df2 = merged_df.set_index('Country')\n",
    "merged_df2.head()"
   ]
  },
  {
   "cell_type": "code",
   "execution_count": 4,
   "metadata": {},
   "outputs": [],
   "source": [
    "#Collect Income Data for past 10 years\n",
    "\n",
    "new_income_df = merged_df2[[\"2003_Income\", \"2004_Income\", \"2005_Income\", \"2006_Income\", \"2007_Income\", \"2008_Income\", \"2009_Income\", \"2010_Income\",\n",
    "                    \"2011_Income\", \"2012_Income\", \"2013_Income\"]]\n",
    "\n",
    "#new_income_df.head()"
   ]
  },
  {
   "cell_type": "code",
   "execution_count": 5,
   "metadata": {},
   "outputs": [],
   "source": [
    "#Change Datatype from Object to Numeric\n",
    "new_income_df = new_income_df.apply(pd.to_numeric, errors='ignore')\n",
    "#new_income_df.dtypes"
   ]
  },
  {
   "cell_type": "code",
   "execution_count": 6,
   "metadata": {},
   "outputs": [],
   "source": [
    "#Find 10 Year Average Income for each Country\n",
    "\n",
    "transposed_df = new_income_df.T\n",
    "country_income_avg = transposed_df.mean(axis=0)\n",
    "\n",
    "#Create Dataframe\n",
    "country_income_df = pd.DataFrame(country_income_avg)"
   ]
  },
  {
   "cell_type": "code",
   "execution_count": 7,
   "metadata": {},
   "outputs": [],
   "source": [
    "#Collect Sugar Intake Data for past 10 years \n",
    "\n",
    "new_sugar_df = merged_df2[[\"2003_SugarIntake\",\"2004_SugarIntake\", \"2005_SugarIntake\", \"2006_SugarIntake\", \"2007_SugarIntake\", \n",
    "                    \"2008_SugarIntake\", \"2009_SugarIntake\", \"2010_SugarIntake\", \"2011_SugarIntake\", \"2012_SugarIntake\", \"2013_SugarIntake\"]]\n",
    "#new_sugar_df.head()\n"
   ]
  },
  {
   "cell_type": "code",
   "execution_count": 8,
   "metadata": {},
   "outputs": [],
   "source": [
    "#Find 10 Year Average Sugar Intake for each Country\n",
    "\n",
    "transposed_df2 = new_sugar_df.T\n",
    "country_sugar_avg = transposed_df2.mean(axis=0)\n",
    "\n",
    "#Create Dataframe\n",
    "country_sugar_df = pd.DataFrame(country_sugar_avg)\n",
    "#country_sugar_df"
   ]
  },
  {
   "cell_type": "code",
   "execution_count": 9,
   "metadata": {},
   "outputs": [
    {
     "data": {
      "text/html": [
       "<div>\n",
       "<style scoped>\n",
       "    .dataframe tbody tr th:only-of-type {\n",
       "        vertical-align: middle;\n",
       "    }\n",
       "\n",
       "    .dataframe tbody tr th {\n",
       "        vertical-align: top;\n",
       "    }\n",
       "\n",
       "    .dataframe thead th {\n",
       "        text-align: right;\n",
       "    }\n",
       "</style>\n",
       "<table border=\"1\" class=\"dataframe\">\n",
       "  <thead>\n",
       "    <tr style=\"text-align: right;\">\n",
       "      <th></th>\n",
       "      <th>AverageDecadeIncome</th>\n",
       "      <th>AverageDecadeSugarIntake</th>\n",
       "    </tr>\n",
       "    <tr>\n",
       "      <th>Country</th>\n",
       "      <th></th>\n",
       "      <th></th>\n",
       "    </tr>\n",
       "  </thead>\n",
       "  <tbody>\n",
       "    <tr>\n",
       "      <th>Afghanistan</th>\n",
       "      <td>1441.000000</td>\n",
       "      <td>21.136364</td>\n",
       "    </tr>\n",
       "    <tr>\n",
       "      <th>Albania</th>\n",
       "      <td>8894.090909</td>\n",
       "      <td>94.300000</td>\n",
       "    </tr>\n",
       "    <tr>\n",
       "      <th>Algeria</th>\n",
       "      <td>12279.363636</td>\n",
       "      <td>81.136364</td>\n",
       "    </tr>\n",
       "    <tr>\n",
       "      <th>Angola</th>\n",
       "      <td>5271.272727</td>\n",
       "      <td>40.581818</td>\n",
       "    </tr>\n",
       "    <tr>\n",
       "      <th>Antigua and Barbuda</th>\n",
       "      <td>21342.545455</td>\n",
       "      <td>86.418182</td>\n",
       "    </tr>\n",
       "    <tr>\n",
       "      <th>...</th>\n",
       "      <td>...</td>\n",
       "      <td>...</td>\n",
       "    </tr>\n",
       "    <tr>\n",
       "      <th>Uzbekistan</th>\n",
       "      <td>3922.545455</td>\n",
       "      <td>28.354545</td>\n",
       "    </tr>\n",
       "    <tr>\n",
       "      <th>Vanuatu</th>\n",
       "      <td>2692.454545</td>\n",
       "      <td>48.836364</td>\n",
       "    </tr>\n",
       "    <tr>\n",
       "      <th>Yemen</th>\n",
       "      <td>3566.272727</td>\n",
       "      <td>74.836364</td>\n",
       "    </tr>\n",
       "    <tr>\n",
       "      <th>Zambia</th>\n",
       "      <td>2803.909091</td>\n",
       "      <td>29.309091</td>\n",
       "    </tr>\n",
       "    <tr>\n",
       "      <th>Zimbabwe</th>\n",
       "      <td>1820.454545</td>\n",
       "      <td>69.945455</td>\n",
       "    </tr>\n",
       "  </tbody>\n",
       "</table>\n",
       "<p>147 rows × 2 columns</p>\n",
       "</div>"
      ],
      "text/plain": [
       "                     AverageDecadeIncome  AverageDecadeSugarIntake\n",
       "Country                                                           \n",
       "Afghanistan                  1441.000000                 21.136364\n",
       "Albania                      8894.090909                 94.300000\n",
       "Algeria                     12279.363636                 81.136364\n",
       "Angola                       5271.272727                 40.581818\n",
       "Antigua and Barbuda         21342.545455                 86.418182\n",
       "...                                  ...                       ...\n",
       "Uzbekistan                   3922.545455                 28.354545\n",
       "Vanuatu                      2692.454545                 48.836364\n",
       "Yemen                        3566.272727                 74.836364\n",
       "Zambia                       2803.909091                 29.309091\n",
       "Zimbabwe                     1820.454545                 69.945455\n",
       "\n",
       "[147 rows x 2 columns]"
      ]
     },
     "execution_count": 9,
     "metadata": {},
     "output_type": "execute_result"
    }
   ],
   "source": [
    "#Created merged data frame of Income & Sugar Averages\n",
    "final_df = pd.merge(country_income_df, country_sugar_df, on=\"Country\", how=\"inner\", suffixes= (\"_Income\", \"_SugarIntake\"))\n",
    "final_df2 = final_df.rename(columns={'0_Income': 'AverageDecadeIncome',\n",
    "                                     '0_SugarIntake': 'AverageDecadeSugarIntake'})\n",
    "final_df2"
   ]
  },
  {
   "cell_type": "code",
   "execution_count": 10,
   "metadata": {},
   "outputs": [
    {
     "data": {
      "image/png": "[encoded data removed]",
      "text/plain": [
       "<Figure size 432x288 with 2 Axes>"
      ]
     },
     "metadata": {
      "needs_background": "light"
     },
     "output_type": "display_data"
    },
    {
     "data": {
      "text/plain": [
       "<Figure size 432x288 with 0 Axes>"
      ]
     },
     "metadata": {},
     "output_type": "display_data"
    }
   ],
   "source": [
    "# create figure and axis objects with subplots()\n",
    "fig,ax = plt.subplots()\n",
    "# make a plot\n",
    "ax.plot(final_df2.AverageDecadeIncome, color=\"red\")\n",
    "# set x-axis label\n",
    "ax.set_xlabel(\"Countries\",fontsize=14)\n",
    "# set y-axis label\n",
    "ax.set_ylabel(\"Average Income\",color=\"red\",fontsize=14)\n",
    "# twin object for two different y-axis on the sample plot\n",
    "ax2=ax.twinx()\n",
    "# make a plot with different y-axis using second axis object\n",
    "ax2.plot(final_df2.AverageDecadeSugarIntake,color=\"blue\")\n",
    "ax2.set_ylabel(\"Average Sugar Intake (g)\",color=\"blue\",fontsize=14)\n",
    "\n",
    "plt.title(\"Impact of Income on Global Sugar Intake\")\n",
    "\n",
    "plt.xticks([])\n",
    "plt.tight_layout()\n",
    "plt.show()\n",
    "\n",
    "plt.savefig('GlobalIncomeSug.png')"
   ]
  },
  {
   "cell_type": "code",
   "execution_count": 11,
   "metadata": {},
   "outputs": [
    {
     "data": {
      "text/html": [
       "<div>\n",
       "<style scoped>\n",
       "    .dataframe tbody tr th:only-of-type {\n",
       "        vertical-align: middle;\n",
       "    }\n",
       "\n",
       "    .dataframe tbody tr th {\n",
       "        vertical-align: top;\n",
       "    }\n",
       "\n",
       "    .dataframe thead th {\n",
       "        text-align: right;\n",
       "    }\n",
       "</style>\n",
       "<table border=\"1\" class=\"dataframe\">\n",
       "  <thead>\n",
       "    <tr style=\"text-align: right;\">\n",
       "      <th></th>\n",
       "      <th>AverageDecadeIncome</th>\n",
       "      <th>AverageDecadeSugarIntake</th>\n",
       "    </tr>\n",
       "    <tr>\n",
       "      <th>Country</th>\n",
       "      <th></th>\n",
       "      <th></th>\n",
       "    </tr>\n",
       "  </thead>\n",
       "  <tbody>\n",
       "    <tr>\n",
       "      <th>Kuwait</th>\n",
       "      <td>91996.909091</td>\n",
       "      <td>108.545455</td>\n",
       "    </tr>\n",
       "    <tr>\n",
       "      <th>United Arab Emirates</th>\n",
       "      <td>74579.000000</td>\n",
       "      <td>99.800000</td>\n",
       "    </tr>\n",
       "    <tr>\n",
       "      <th>Luxembourg</th>\n",
       "      <td>73493.272727</td>\n",
       "      <td>135.909091</td>\n",
       "    </tr>\n",
       "    <tr>\n",
       "      <th>Norway</th>\n",
       "      <td>63097.909091</td>\n",
       "      <td>108.545455</td>\n",
       "    </tr>\n",
       "    <tr>\n",
       "      <th>Switzerland</th>\n",
       "      <td>56452.090909</td>\n",
       "      <td>161.818182</td>\n",
       "    </tr>\n",
       "  </tbody>\n",
       "</table>\n",
       "</div>"
      ],
      "text/plain": [
       "                      AverageDecadeIncome  AverageDecadeSugarIntake\n",
       "Country                                                            \n",
       "Kuwait                       91996.909091                108.545455\n",
       "United Arab Emirates         74579.000000                 99.800000\n",
       "Luxembourg                   73493.272727                135.909091\n",
       "Norway                       63097.909091                108.545455\n",
       "Switzerland                  56452.090909                161.818182"
      ]
     },
     "execution_count": 11,
     "metadata": {},
     "output_type": "execute_result"
    }
   ],
   "source": [
    "#Find Top 5 Countries for Highest Average Income\n",
    "top_5 = final_df2.sort_values(by=['AverageDecadeIncome'], ascending=False).head(5)\n",
    "top_5"
   ]
  },
  {
   "cell_type": "code",
   "execution_count": 12,
   "metadata": {},
   "outputs": [
    {
     "data": {
      "image/png": "[encoded data removed]",
      "text/plain": [
       "<Figure size 432x288 with 2 Axes>"
      ]
     },
     "metadata": {
      "needs_background": "light"
     },
     "output_type": "display_data"
    },
    {
     "data": {
      "text/plain": [
       "<Figure size 432x288 with 0 Axes>"
      ]
     },
     "metadata": {},
     "output_type": "display_data"
    }
   ],
   "source": [
    "# create figure and axis objects with subplots()\n",
    "fig,ax = plt.subplots()\n",
    "# make a plot\n",
    "ax.plot(top_5.AverageDecadeIncome, color=\"red\")\n",
    "# set x-axis label\n",
    "ax.set_xlabel(\"Country\",fontsize=14)\n",
    "plt.xticks(rotation=30)\n",
    "# set y-axis label\n",
    "ax.set_ylabel(\"Average Income (USD)\",color=\"red\",fontsize=14)\n",
    "# twin object for two different y-axis on the sample plot\n",
    "ax2=ax.twinx()\n",
    "# make a plot with different y-axis using second axis object\n",
    "ax2.plot(top_5.AverageDecadeSugarIntake,color=\"blue\")\n",
    "ax2.set_ylabel(\"Average Sugar Intake (g)\",color=\"blue\",fontsize=14)\n",
    "\n",
    "plt.title(\"Sugar Intake for Countries with Highest Average Income\")\n",
    "\n",
    "plt.tight_layout()\n",
    "plt.show()\n",
    "\n",
    "plt.savefig('HighestIncomeCountries.png')"
   ]
  },
  {
   "cell_type": "markdown",
   "metadata": {},
   "source": [
    "plt.scatter(country_income_df, country_sugar_df)\n",
    "plt.title ('Average Sugar Income vs Average Sugar Intake (2002-2013)')\n",
    "plt.xlabel('Mean Income (USD)')\n",
    "plt.ylabel('Average Sugar Intake(g)')\n",
    "\n",
    "plt.show()"
   ]
  },
  {
   "cell_type": "code",
   "execution_count": 13,
   "metadata": {},
   "outputs": [],
   "source": [
    "#Calculate Correlation Coefficient\n",
    "#sts.pearsonr(final_df2.AverageDecadeIncome, final_df2.AverageDecadeSugarIntake)"
   ]
  },
  {
   "cell_type": "code",
   "execution_count": 14,
   "metadata": {
    "scrolled": true
   },
   "outputs": [],
   "source": [
    "#Calculate Linear Regression\n",
    "#model=sts.linregress(final_df2.AverageDecadeIncome, final_df2.AverageDecadeSugarIntake)\n",
    "#model"
   ]
  },
  {
   "cell_type": "code",
   "execution_count": 15,
   "metadata": {},
   "outputs": [],
   "source": [
    "(slope, intercept, rvalue, pvalue, stderr) = linregress(final_df2.AverageDecadeIncome, final_df2.AverageDecadeSugarIntake)"
   ]
  },
  {
   "cell_type": "code",
   "execution_count": 16,
   "metadata": {},
   "outputs": [
    {
     "name": "stdout",
     "output_type": "stream",
     "text": [
      "The correlation coefficient between income vs sugar consumption is 0.54\n",
      "slope = 0.001367, intercept = 62.18, r-value = 0.54, p-value = 0.0, standard error = 0.0\n"
     ]
    },
    {
     "data": {
      "image/png": "[encoded data removed]",
      "text/plain": [
       "<Figure size 432x288 with 1 Axes>"
      ]
     },
     "metadata": {
      "needs_background": "light"
     },
     "output_type": "display_data"
    }
   ],
   "source": [
    "#Plot Linear Regression\n",
    "y_values = country_income_df*slope+intercept\n",
    "plt.scatter(country_income_df, country_sugar_df, marker=\"o\", facecolors=\"blue\", edgecolors=\"black\")\n",
    "plt.title ('Average Income vs Sugar Consumption (2002-2013)')\n",
    "plt.xlabel('Mean Income (USD)')\n",
    "plt.ylabel('Sugar Consumption (g/day)')\n",
    "plt.grid()\n",
    "\n",
    "# Calculate the values for the regression line (y=mx+b)\n",
    "best_fit = slope * country_income_df + intercept\n",
    "\n",
    "# Format the regression line formula to be displayed on the graph\n",
    "best_fit_equation = \"y = \" + str(round(slope, 6)) + \"x +\" + str(round(intercept, 2))\n",
    "\n",
    "# Output of correlation coefficient and linear regression model\n",
    "print(f\"The correlation coefficient between income vs sugar consumption is {round(rvalue,2)}\")\n",
    "print(f\"slope = {round(slope,6)}, intercept = {round(intercept,2)}, r-value = {round(rvalue, 2)}, p-value = {round(pvalue,2)}, standard error = {round(stderr,2)}\")\n",
    "\n",
    "# Plot regression line\n",
    "plt.plot(country_income_df,best_fit,linewidth = 1,color=\"red\")\n",
    "# Plot regression formula on graph\n",
    "plt.annotate(best_fit_equation, (50000, 75), fontsize=12, color='red')\n",
    "\n",
    "plt.savefig(\"Income vs Sugar Consumption\")"
   ]
  }
 ],
 "metadata": {
  "kernelspec": {
   "display_name": "Python 3",
   "language": "python",
   "name": "python3"
  },
  "language_info": {
   "codemirror_mode": {
    "name": "ipython",
    "version": 3
   },
   "file_extension": ".py",
   "mimetype": "text/x-python",
   "name": "python",
   "nbconvert_exporter": "python",
   "pygments_lexer": "ipython3",
   "version": "3.8.3"
  }
 },
 "nbformat": 4,
 "nbformat_minor": 4
}
